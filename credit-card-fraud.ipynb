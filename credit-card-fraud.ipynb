{
 "cells": [
  {
   "cell_type": "code",
   "execution_count": 1,
   "id": "7bf0c32f",
   "metadata": {
    "execution": {
     "iopub.execute_input": "2025-10-16T07:36:26.044633Z",
     "iopub.status.busy": "2025-10-16T07:36:26.044297Z",
     "iopub.status.idle": "2025-10-16T07:36:30.199413Z",
     "shell.execute_reply": "2025-10-16T07:36:30.198232Z"
    },
    "papermill": {
     "duration": 4.1639,
     "end_time": "2025-10-16T07:36:30.201666",
     "exception": false,
     "start_time": "2025-10-16T07:36:26.037766",
     "status": "completed"
    },
    "tags": []
   },
   "outputs": [],
   "source": [
    "import numpy as np\n",
    "import pandas as pd\n",
    "from sklearn.model_selection import train_test_split\n",
    "from sklearn.linear_model import LogisticRegression\n",
    "from sklearn.metrics import accuracy_score"
   ]
  },
  {
   "cell_type": "code",
   "execution_count": 2,
   "id": "61fde947",
   "metadata": {
    "execution": {
     "iopub.execute_input": "2025-10-16T07:36:30.213447Z",
     "iopub.status.busy": "2025-10-16T07:36:30.212943Z",
     "iopub.status.idle": "2025-10-16T07:36:35.209865Z",
     "shell.execute_reply": "2025-10-16T07:36:35.208716Z"
    },
    "papermill": {
     "duration": 5.005421,
     "end_time": "2025-10-16T07:36:35.211871",
     "exception": false,
     "start_time": "2025-10-16T07:36:30.206450",
     "status": "completed"
    },
    "tags": []
   },
   "outputs": [
    {
     "name": "stdout",
     "output_type": "stream",
     "text": [
      "   Time        V1        V2        V3        V4        V5        V6        V7  \\\n",
      "0   0.0 -1.359807 -0.072781  2.536347  1.378155 -0.338321  0.462388  0.239599   \n",
      "1   0.0  1.191857  0.266151  0.166480  0.448154  0.060018 -0.082361 -0.078803   \n",
      "2   1.0 -1.358354 -1.340163  1.773209  0.379780 -0.503198  1.800499  0.791461   \n",
      "3   1.0 -0.966272 -0.185226  1.792993 -0.863291 -0.010309  1.247203  0.237609   \n",
      "4   2.0 -1.158233  0.877737  1.548718  0.403034 -0.407193  0.095921  0.592941   \n",
      "\n",
      "         V8        V9  ...       V21       V22       V23       V24       V25  \\\n",
      "0  0.098698  0.363787  ... -0.018307  0.277838 -0.110474  0.066928  0.128539   \n",
      "1  0.085102 -0.255425  ... -0.225775 -0.638672  0.101288 -0.339846  0.167170   \n",
      "2  0.247676 -1.514654  ...  0.247998  0.771679  0.909412 -0.689281 -0.327642   \n",
      "3  0.377436 -1.387024  ... -0.108300  0.005274 -0.190321 -1.175575  0.647376   \n",
      "4 -0.270533  0.817739  ... -0.009431  0.798278 -0.137458  0.141267 -0.206010   \n",
      "\n",
      "        V26       V27       V28  Amount  Class  \n",
      "0 -0.189115  0.133558 -0.021053  149.62      0  \n",
      "1  0.125895 -0.008983  0.014724    2.69      0  \n",
      "2 -0.139097 -0.055353 -0.059752  378.66      0  \n",
      "3 -0.221929  0.062723  0.061458  123.50      0  \n",
      "4  0.502292  0.219422  0.215153   69.99      0  \n",
      "\n",
      "[5 rows x 31 columns]\n"
     ]
    }
   ],
   "source": [
    "import kagglehub\n",
    "from kagglehub.datasets import dataset_load, KaggleDatasetAdapter\n",
    "\n",
    "# Load the latest version of the dataset\n",
    "df = dataset_load(\n",
    "    KaggleDatasetAdapter.PANDAS,\n",
    "    \"mlg-ulb/creditcardfraud\",\n",
    "    path=\"creditcard.csv\"  # 👈 specify the file inside the dataset\n",
    ")\n",
    "\n",
    "print(df.head())\n"
   ]
  },
  {
   "cell_type": "code",
   "execution_count": 3,
   "id": "be3151b6",
   "metadata": {
    "execution": {
     "iopub.execute_input": "2025-10-16T07:36:35.223333Z",
     "iopub.status.busy": "2025-10-16T07:36:35.222968Z",
     "iopub.status.idle": "2025-10-16T07:36:35.287210Z",
     "shell.execute_reply": "2025-10-16T07:36:35.285547Z"
    },
    "papermill": {
     "duration": 0.072253,
     "end_time": "2025-10-16T07:36:35.288942",
     "exception": false,
     "start_time": "2025-10-16T07:36:35.216689",
     "status": "completed"
    },
    "tags": []
   },
   "outputs": [
    {
     "name": "stdout",
     "output_type": "stream",
     "text": [
      "<class 'pandas.core.frame.DataFrame'>\n",
      "RangeIndex: 284807 entries, 0 to 284806\n",
      "Data columns (total 31 columns):\n",
      " #   Column  Non-Null Count   Dtype  \n",
      "---  ------  --------------   -----  \n",
      " 0   Time    284807 non-null  float64\n",
      " 1   V1      284807 non-null  float64\n",
      " 2   V2      284807 non-null  float64\n",
      " 3   V3      284807 non-null  float64\n",
      " 4   V4      284807 non-null  float64\n",
      " 5   V5      284807 non-null  float64\n",
      " 6   V6      284807 non-null  float64\n",
      " 7   V7      284807 non-null  float64\n",
      " 8   V8      284807 non-null  float64\n",
      " 9   V9      284807 non-null  float64\n",
      " 10  V10     284807 non-null  float64\n",
      " 11  V11     284807 non-null  float64\n",
      " 12  V12     284807 non-null  float64\n",
      " 13  V13     284807 non-null  float64\n",
      " 14  V14     284807 non-null  float64\n",
      " 15  V15     284807 non-null  float64\n",
      " 16  V16     284807 non-null  float64\n",
      " 17  V17     284807 non-null  float64\n",
      " 18  V18     284807 non-null  float64\n",
      " 19  V19     284807 non-null  float64\n",
      " 20  V20     284807 non-null  float64\n",
      " 21  V21     284807 non-null  float64\n",
      " 22  V22     284807 non-null  float64\n",
      " 23  V23     284807 non-null  float64\n",
      " 24  V24     284807 non-null  float64\n",
      " 25  V25     284807 non-null  float64\n",
      " 26  V26     284807 non-null  float64\n",
      " 27  V27     284807 non-null  float64\n",
      " 28  V28     284807 non-null  float64\n",
      " 29  Amount  284807 non-null  float64\n",
      " 30  Class   284807 non-null  int64  \n",
      "dtypes: float64(30), int64(1)\n",
      "memory usage: 67.4 MB\n"
     ]
    }
   ],
   "source": [
    "df.info()"
   ]
  },
  {
   "cell_type": "code",
   "execution_count": 4,
   "id": "2236ecda",
   "metadata": {
    "execution": {
     "iopub.execute_input": "2025-10-16T07:36:35.303389Z",
     "iopub.status.busy": "2025-10-16T07:36:35.302119Z",
     "iopub.status.idle": "2025-10-16T07:36:35.343152Z",
     "shell.execute_reply": "2025-10-16T07:36:35.341847Z"
    },
    "papermill": {
     "duration": 0.048807,
     "end_time": "2025-10-16T07:36:35.345141",
     "exception": false,
     "start_time": "2025-10-16T07:36:35.296334",
     "status": "completed"
    },
    "tags": []
   },
   "outputs": [
    {
     "data": {
      "text/plain": [
       "Time      0\n",
       "V1        0\n",
       "V2        0\n",
       "V3        0\n",
       "V4        0\n",
       "V5        0\n",
       "V6        0\n",
       "V7        0\n",
       "V8        0\n",
       "V9        0\n",
       "V10       0\n",
       "V11       0\n",
       "V12       0\n",
       "V13       0\n",
       "V14       0\n",
       "V15       0\n",
       "V16       0\n",
       "V17       0\n",
       "V18       0\n",
       "V19       0\n",
       "V20       0\n",
       "V21       0\n",
       "V22       0\n",
       "V23       0\n",
       "V24       0\n",
       "V25       0\n",
       "V26       0\n",
       "V27       0\n",
       "V28       0\n",
       "Amount    0\n",
       "Class     0\n",
       "dtype: int64"
      ]
     },
     "execution_count": 4,
     "metadata": {},
     "output_type": "execute_result"
    }
   ],
   "source": [
    "df.isnull().sum()"
   ]
  },
  {
   "cell_type": "code",
   "execution_count": 5,
   "id": "ec7f127b",
   "metadata": {
    "execution": {
     "iopub.execute_input": "2025-10-16T07:36:35.355588Z",
     "iopub.status.busy": "2025-10-16T07:36:35.355273Z",
     "iopub.status.idle": "2025-10-16T07:36:35.367945Z",
     "shell.execute_reply": "2025-10-16T07:36:35.366672Z"
    },
    "papermill": {
     "duration": 0.02027,
     "end_time": "2025-10-16T07:36:35.370093",
     "exception": false,
     "start_time": "2025-10-16T07:36:35.349823",
     "status": "completed"
    },
    "tags": []
   },
   "outputs": [
    {
     "data": {
      "text/plain": [
       "Class\n",
       "0    284315\n",
       "1       492\n",
       "Name: count, dtype: int64"
      ]
     },
     "execution_count": 5,
     "metadata": {},
     "output_type": "execute_result"
    }
   ],
   "source": [
    "# distribution of legit transactions & fraudulent transactions\n",
    "df['Class'].value_counts()"
   ]
  },
  {
   "cell_type": "markdown",
   "id": "99b5dba2",
   "metadata": {
    "papermill": {
     "duration": 0.004284,
     "end_time": "2025-10-16T07:36:35.379201",
     "exception": false,
     "start_time": "2025-10-16T07:36:35.374917",
     "status": "completed"
    },
    "tags": []
   },
   "source": [
    "This Dataset is highly unblanced\n",
    "\n",
    "0 --> Normal Transaction\n",
    "\n",
    "1 --> fraudulent transaction"
   ]
  },
  {
   "cell_type": "code",
   "execution_count": 6,
   "id": "0e0f6418",
   "metadata": {
    "execution": {
     "iopub.execute_input": "2025-10-16T07:36:35.389850Z",
     "iopub.status.busy": "2025-10-16T07:36:35.389497Z",
     "iopub.status.idle": "2025-10-16T07:36:35.441003Z",
     "shell.execute_reply": "2025-10-16T07:36:35.439794Z"
    },
    "papermill": {
     "duration": 0.059123,
     "end_time": "2025-10-16T07:36:35.442932",
     "exception": false,
     "start_time": "2025-10-16T07:36:35.383809",
     "status": "completed"
    },
    "tags": []
   },
   "outputs": [],
   "source": [
    "# separating the data for analysis\n",
    "legit = df[df.Class == 0]\n",
    "fraud = df[df.Class == 1]"
   ]
  },
  {
   "cell_type": "code",
   "execution_count": 7,
   "id": "6472371a",
   "metadata": {
    "execution": {
     "iopub.execute_input": "2025-10-16T07:36:35.454486Z",
     "iopub.status.busy": "2025-10-16T07:36:35.454116Z",
     "iopub.status.idle": "2025-10-16T07:36:35.460094Z",
     "shell.execute_reply": "2025-10-16T07:36:35.458979Z"
    },
    "papermill": {
     "duration": 0.013949,
     "end_time": "2025-10-16T07:36:35.462248",
     "exception": false,
     "start_time": "2025-10-16T07:36:35.448299",
     "status": "completed"
    },
    "tags": []
   },
   "outputs": [
    {
     "name": "stdout",
     "output_type": "stream",
     "text": [
      "(284315, 31)\n",
      "(492, 31)\n"
     ]
    }
   ],
   "source": [
    "print(legit.shape)\n",
    "print(fraud.shape)"
   ]
  },
  {
   "cell_type": "code",
   "execution_count": 8,
   "id": "1c275d61",
   "metadata": {
    "execution": {
     "iopub.execute_input": "2025-10-16T07:36:35.472940Z",
     "iopub.status.busy": "2025-10-16T07:36:35.472612Z",
     "iopub.status.idle": "2025-10-16T07:36:35.498969Z",
     "shell.execute_reply": "2025-10-16T07:36:35.497874Z"
    },
    "papermill": {
     "duration": 0.034393,
     "end_time": "2025-10-16T07:36:35.501360",
     "exception": false,
     "start_time": "2025-10-16T07:36:35.466967",
     "status": "completed"
    },
    "tags": []
   },
   "outputs": [
    {
     "data": {
      "text/plain": [
       "count    284315.000000\n",
       "mean         88.291022\n",
       "std         250.105092\n",
       "min           0.000000\n",
       "25%           5.650000\n",
       "50%          22.000000\n",
       "75%          77.050000\n",
       "max       25691.160000\n",
       "Name: Amount, dtype: float64"
      ]
     },
     "execution_count": 8,
     "metadata": {},
     "output_type": "execute_result"
    }
   ],
   "source": [
    "# statistical measures of the data\n",
    "legit.Amount.describe()"
   ]
  },
  {
   "cell_type": "code",
   "execution_count": 9,
   "id": "87acab8f",
   "metadata": {
    "execution": {
     "iopub.execute_input": "2025-10-16T07:36:35.512510Z",
     "iopub.status.busy": "2025-10-16T07:36:35.511992Z",
     "iopub.status.idle": "2025-10-16T07:36:35.523711Z",
     "shell.execute_reply": "2025-10-16T07:36:35.522833Z"
    },
    "papermill": {
     "duration": 0.019284,
     "end_time": "2025-10-16T07:36:35.525549",
     "exception": false,
     "start_time": "2025-10-16T07:36:35.506265",
     "status": "completed"
    },
    "tags": []
   },
   "outputs": [
    {
     "data": {
      "text/plain": [
       "count     492.000000\n",
       "mean      122.211321\n",
       "std       256.683288\n",
       "min         0.000000\n",
       "25%         1.000000\n",
       "50%         9.250000\n",
       "75%       105.890000\n",
       "max      2125.870000\n",
       "Name: Amount, dtype: float64"
      ]
     },
     "execution_count": 9,
     "metadata": {},
     "output_type": "execute_result"
    }
   ],
   "source": [
    "fraud.Amount.describe()"
   ]
  },
  {
   "cell_type": "code",
   "execution_count": 10,
   "id": "8e9ca783",
   "metadata": {
    "execution": {
     "iopub.execute_input": "2025-10-16T07:36:35.536692Z",
     "iopub.status.busy": "2025-10-16T07:36:35.536357Z",
     "iopub.status.idle": "2025-10-16T07:36:35.691936Z",
     "shell.execute_reply": "2025-10-16T07:36:35.690933Z"
    },
    "papermill": {
     "duration": 0.163319,
     "end_time": "2025-10-16T07:36:35.693757",
     "exception": false,
     "start_time": "2025-10-16T07:36:35.530438",
     "status": "completed"
    },
    "tags": []
   },
   "outputs": [
    {
     "data": {
      "text/html": [
       "<div>\n",
       "<style scoped>\n",
       "    .dataframe tbody tr th:only-of-type {\n",
       "        vertical-align: middle;\n",
       "    }\n",
       "\n",
       "    .dataframe tbody tr th {\n",
       "        vertical-align: top;\n",
       "    }\n",
       "\n",
       "    .dataframe thead th {\n",
       "        text-align: right;\n",
       "    }\n",
       "</style>\n",
       "<table border=\"1\" class=\"dataframe\">\n",
       "  <thead>\n",
       "    <tr style=\"text-align: right;\">\n",
       "      <th></th>\n",
       "      <th>Time</th>\n",
       "      <th>V1</th>\n",
       "      <th>V2</th>\n",
       "      <th>V3</th>\n",
       "      <th>V4</th>\n",
       "      <th>V5</th>\n",
       "      <th>V6</th>\n",
       "      <th>V7</th>\n",
       "      <th>V8</th>\n",
       "      <th>V9</th>\n",
       "      <th>...</th>\n",
       "      <th>V20</th>\n",
       "      <th>V21</th>\n",
       "      <th>V22</th>\n",
       "      <th>V23</th>\n",
       "      <th>V24</th>\n",
       "      <th>V25</th>\n",
       "      <th>V26</th>\n",
       "      <th>V27</th>\n",
       "      <th>V28</th>\n",
       "      <th>Amount</th>\n",
       "    </tr>\n",
       "    <tr>\n",
       "      <th>Class</th>\n",
       "      <th></th>\n",
       "      <th></th>\n",
       "      <th></th>\n",
       "      <th></th>\n",
       "      <th></th>\n",
       "      <th></th>\n",
       "      <th></th>\n",
       "      <th></th>\n",
       "      <th></th>\n",
       "      <th></th>\n",
       "      <th></th>\n",
       "      <th></th>\n",
       "      <th></th>\n",
       "      <th></th>\n",
       "      <th></th>\n",
       "      <th></th>\n",
       "      <th></th>\n",
       "      <th></th>\n",
       "      <th></th>\n",
       "      <th></th>\n",
       "      <th></th>\n",
       "    </tr>\n",
       "  </thead>\n",
       "  <tbody>\n",
       "    <tr>\n",
       "      <th>0</th>\n",
       "      <td>94838.202258</td>\n",
       "      <td>0.008258</td>\n",
       "      <td>-0.006271</td>\n",
       "      <td>0.012171</td>\n",
       "      <td>-0.007860</td>\n",
       "      <td>0.005453</td>\n",
       "      <td>0.002419</td>\n",
       "      <td>0.009637</td>\n",
       "      <td>-0.000987</td>\n",
       "      <td>0.004467</td>\n",
       "      <td>...</td>\n",
       "      <td>-0.000644</td>\n",
       "      <td>-0.001235</td>\n",
       "      <td>-0.000024</td>\n",
       "      <td>0.000070</td>\n",
       "      <td>0.000182</td>\n",
       "      <td>-0.000072</td>\n",
       "      <td>-0.000089</td>\n",
       "      <td>-0.000295</td>\n",
       "      <td>-0.000131</td>\n",
       "      <td>88.291022</td>\n",
       "    </tr>\n",
       "    <tr>\n",
       "      <th>1</th>\n",
       "      <td>80746.806911</td>\n",
       "      <td>-4.771948</td>\n",
       "      <td>3.623778</td>\n",
       "      <td>-7.033281</td>\n",
       "      <td>4.542029</td>\n",
       "      <td>-3.151225</td>\n",
       "      <td>-1.397737</td>\n",
       "      <td>-5.568731</td>\n",
       "      <td>0.570636</td>\n",
       "      <td>-2.581123</td>\n",
       "      <td>...</td>\n",
       "      <td>0.372319</td>\n",
       "      <td>0.713588</td>\n",
       "      <td>0.014049</td>\n",
       "      <td>-0.040308</td>\n",
       "      <td>-0.105130</td>\n",
       "      <td>0.041449</td>\n",
       "      <td>0.051648</td>\n",
       "      <td>0.170575</td>\n",
       "      <td>0.075667</td>\n",
       "      <td>122.211321</td>\n",
       "    </tr>\n",
       "  </tbody>\n",
       "</table>\n",
       "<p>2 rows × 30 columns</p>\n",
       "</div>"
      ],
      "text/plain": [
       "               Time        V1        V2        V3        V4        V5  \\\n",
       "Class                                                                   \n",
       "0      94838.202258  0.008258 -0.006271  0.012171 -0.007860  0.005453   \n",
       "1      80746.806911 -4.771948  3.623778 -7.033281  4.542029 -3.151225   \n",
       "\n",
       "             V6        V7        V8        V9  ...       V20       V21  \\\n",
       "Class                                          ...                       \n",
       "0      0.002419  0.009637 -0.000987  0.004467  ... -0.000644 -0.001235   \n",
       "1     -1.397737 -5.568731  0.570636 -2.581123  ...  0.372319  0.713588   \n",
       "\n",
       "            V22       V23       V24       V25       V26       V27       V28  \\\n",
       "Class                                                                         \n",
       "0     -0.000024  0.000070  0.000182 -0.000072 -0.000089 -0.000295 -0.000131   \n",
       "1      0.014049 -0.040308 -0.105130  0.041449  0.051648  0.170575  0.075667   \n",
       "\n",
       "           Amount  \n",
       "Class              \n",
       "0       88.291022  \n",
       "1      122.211321  \n",
       "\n",
       "[2 rows x 30 columns]"
      ]
     },
     "execution_count": 10,
     "metadata": {},
     "output_type": "execute_result"
    }
   ],
   "source": [
    "# compare the values for both transaction\n",
    "df.groupby('Class').mean()"
   ]
  },
  {
   "cell_type": "markdown",
   "id": "807f0dd9",
   "metadata": {
    "papermill": {
     "duration": 0.004815,
     "end_time": "2025-10-16T07:36:35.703830",
     "exception": false,
     "start_time": "2025-10-16T07:36:35.699015",
     "status": "completed"
    },
    "tags": []
   },
   "source": [
    "\n",
    "> Under-SamplingBuild a sample dataset containing similar distribution of normal transactions and Fraudulent TransactionsNumber of Fraudulent Transactions --> 492\n"
   ]
  },
  {
   "cell_type": "code",
   "execution_count": 11,
   "id": "d9078be2",
   "metadata": {
    "execution": {
     "iopub.execute_input": "2025-10-16T07:36:35.715342Z",
     "iopub.status.busy": "2025-10-16T07:36:35.714970Z",
     "iopub.status.idle": "2025-10-16T07:36:35.730689Z",
     "shell.execute_reply": "2025-10-16T07:36:35.729357Z"
    },
    "papermill": {
     "duration": 0.023919,
     "end_time": "2025-10-16T07:36:35.732604",
     "exception": false,
     "start_time": "2025-10-16T07:36:35.708685",
     "status": "completed"
    },
    "tags": []
   },
   "outputs": [],
   "source": [
    "legit_sample = legit.sample(n=492)"
   ]
  },
  {
   "cell_type": "code",
   "execution_count": 12,
   "id": "ee5ab4d3",
   "metadata": {
    "execution": {
     "iopub.execute_input": "2025-10-16T07:36:35.744260Z",
     "iopub.status.busy": "2025-10-16T07:36:35.743896Z",
     "iopub.status.idle": "2025-10-16T07:36:35.750969Z",
     "shell.execute_reply": "2025-10-16T07:36:35.749650Z"
    },
    "papermill": {
     "duration": 0.014952,
     "end_time": "2025-10-16T07:36:35.752698",
     "exception": false,
     "start_time": "2025-10-16T07:36:35.737746",
     "status": "completed"
    },
    "tags": []
   },
   "outputs": [],
   "source": [
    "new_dataset = pd.concat([legit_sample, fraud], axis=0)"
   ]
  },
  {
   "cell_type": "code",
   "execution_count": 13,
   "id": "00798431",
   "metadata": {
    "execution": {
     "iopub.execute_input": "2025-10-16T07:36:35.764290Z",
     "iopub.status.busy": "2025-10-16T07:36:35.763926Z",
     "iopub.status.idle": "2025-10-16T07:36:35.772092Z",
     "shell.execute_reply": "2025-10-16T07:36:35.771104Z"
    },
    "papermill": {
     "duration": 0.016,
     "end_time": "2025-10-16T07:36:35.773737",
     "exception": false,
     "start_time": "2025-10-16T07:36:35.757737",
     "status": "completed"
    },
    "tags": []
   },
   "outputs": [
    {
     "data": {
      "text/plain": [
       "Class\n",
       "0    492\n",
       "1    492\n",
       "Name: count, dtype: int64"
      ]
     },
     "execution_count": 13,
     "metadata": {},
     "output_type": "execute_result"
    }
   ],
   "source": [
    "new_dataset['Class'].value_counts()"
   ]
  },
  {
   "cell_type": "code",
   "execution_count": 14,
   "id": "aa550441",
   "metadata": {
    "execution": {
     "iopub.execute_input": "2025-10-16T07:36:35.785361Z",
     "iopub.status.busy": "2025-10-16T07:36:35.785009Z",
     "iopub.status.idle": "2025-10-16T07:36:35.805375Z",
     "shell.execute_reply": "2025-10-16T07:36:35.804447Z"
    },
    "papermill": {
     "duration": 0.028664,
     "end_time": "2025-10-16T07:36:35.807578",
     "exception": false,
     "start_time": "2025-10-16T07:36:35.778914",
     "status": "completed"
    },
    "tags": []
   },
   "outputs": [
    {
     "data": {
      "text/html": [
       "<div>\n",
       "<style scoped>\n",
       "    .dataframe tbody tr th:only-of-type {\n",
       "        vertical-align: middle;\n",
       "    }\n",
       "\n",
       "    .dataframe tbody tr th {\n",
       "        vertical-align: top;\n",
       "    }\n",
       "\n",
       "    .dataframe thead th {\n",
       "        text-align: right;\n",
       "    }\n",
       "</style>\n",
       "<table border=\"1\" class=\"dataframe\">\n",
       "  <thead>\n",
       "    <tr style=\"text-align: right;\">\n",
       "      <th></th>\n",
       "      <th>Time</th>\n",
       "      <th>V1</th>\n",
       "      <th>V2</th>\n",
       "      <th>V3</th>\n",
       "      <th>V4</th>\n",
       "      <th>V5</th>\n",
       "      <th>V6</th>\n",
       "      <th>V7</th>\n",
       "      <th>V8</th>\n",
       "      <th>V9</th>\n",
       "      <th>...</th>\n",
       "      <th>V20</th>\n",
       "      <th>V21</th>\n",
       "      <th>V22</th>\n",
       "      <th>V23</th>\n",
       "      <th>V24</th>\n",
       "      <th>V25</th>\n",
       "      <th>V26</th>\n",
       "      <th>V27</th>\n",
       "      <th>V28</th>\n",
       "      <th>Amount</th>\n",
       "    </tr>\n",
       "    <tr>\n",
       "      <th>Class</th>\n",
       "      <th></th>\n",
       "      <th></th>\n",
       "      <th></th>\n",
       "      <th></th>\n",
       "      <th></th>\n",
       "      <th></th>\n",
       "      <th></th>\n",
       "      <th></th>\n",
       "      <th></th>\n",
       "      <th></th>\n",
       "      <th></th>\n",
       "      <th></th>\n",
       "      <th></th>\n",
       "      <th></th>\n",
       "      <th></th>\n",
       "      <th></th>\n",
       "      <th></th>\n",
       "      <th></th>\n",
       "      <th></th>\n",
       "      <th></th>\n",
       "      <th></th>\n",
       "    </tr>\n",
       "  </thead>\n",
       "  <tbody>\n",
       "    <tr>\n",
       "      <th>0</th>\n",
       "      <td>95277.715447</td>\n",
       "      <td>-0.063534</td>\n",
       "      <td>0.015753</td>\n",
       "      <td>0.094955</td>\n",
       "      <td>0.019327</td>\n",
       "      <td>-0.041242</td>\n",
       "      <td>-0.033988</td>\n",
       "      <td>0.003281</td>\n",
       "      <td>0.044133</td>\n",
       "      <td>-0.036899</td>\n",
       "      <td>...</td>\n",
       "      <td>0.044132</td>\n",
       "      <td>0.007138</td>\n",
       "      <td>0.015030</td>\n",
       "      <td>0.014795</td>\n",
       "      <td>-0.029871</td>\n",
       "      <td>-0.019221</td>\n",
       "      <td>-0.013245</td>\n",
       "      <td>0.013779</td>\n",
       "      <td>-0.006997</td>\n",
       "      <td>90.831362</td>\n",
       "    </tr>\n",
       "    <tr>\n",
       "      <th>1</th>\n",
       "      <td>80746.806911</td>\n",
       "      <td>-4.771948</td>\n",
       "      <td>3.623778</td>\n",
       "      <td>-7.033281</td>\n",
       "      <td>4.542029</td>\n",
       "      <td>-3.151225</td>\n",
       "      <td>-1.397737</td>\n",
       "      <td>-5.568731</td>\n",
       "      <td>0.570636</td>\n",
       "      <td>-2.581123</td>\n",
       "      <td>...</td>\n",
       "      <td>0.372319</td>\n",
       "      <td>0.713588</td>\n",
       "      <td>0.014049</td>\n",
       "      <td>-0.040308</td>\n",
       "      <td>-0.105130</td>\n",
       "      <td>0.041449</td>\n",
       "      <td>0.051648</td>\n",
       "      <td>0.170575</td>\n",
       "      <td>0.075667</td>\n",
       "      <td>122.211321</td>\n",
       "    </tr>\n",
       "  </tbody>\n",
       "</table>\n",
       "<p>2 rows × 30 columns</p>\n",
       "</div>"
      ],
      "text/plain": [
       "               Time        V1        V2        V3        V4        V5  \\\n",
       "Class                                                                   \n",
       "0      95277.715447 -0.063534  0.015753  0.094955  0.019327 -0.041242   \n",
       "1      80746.806911 -4.771948  3.623778 -7.033281  4.542029 -3.151225   \n",
       "\n",
       "             V6        V7        V8        V9  ...       V20       V21  \\\n",
       "Class                                          ...                       \n",
       "0     -0.033988  0.003281  0.044133 -0.036899  ...  0.044132  0.007138   \n",
       "1     -1.397737 -5.568731  0.570636 -2.581123  ...  0.372319  0.713588   \n",
       "\n",
       "            V22       V23       V24       V25       V26       V27       V28  \\\n",
       "Class                                                                         \n",
       "0      0.015030  0.014795 -0.029871 -0.019221 -0.013245  0.013779 -0.006997   \n",
       "1      0.014049 -0.040308 -0.105130  0.041449  0.051648  0.170575  0.075667   \n",
       "\n",
       "           Amount  \n",
       "Class              \n",
       "0       90.831362  \n",
       "1      122.211321  \n",
       "\n",
       "[2 rows x 30 columns]"
      ]
     },
     "execution_count": 14,
     "metadata": {},
     "output_type": "execute_result"
    }
   ],
   "source": [
    "new_dataset.groupby('Class').mean()"
   ]
  },
  {
   "cell_type": "code",
   "execution_count": 15,
   "id": "9b08ad16",
   "metadata": {
    "execution": {
     "iopub.execute_input": "2025-10-16T07:36:35.820890Z",
     "iopub.status.busy": "2025-10-16T07:36:35.820239Z",
     "iopub.status.idle": "2025-10-16T07:36:35.826908Z",
     "shell.execute_reply": "2025-10-16T07:36:35.825674Z"
    },
    "papermill": {
     "duration": 0.015414,
     "end_time": "2025-10-16T07:36:35.828565",
     "exception": false,
     "start_time": "2025-10-16T07:36:35.813151",
     "status": "completed"
    },
    "tags": []
   },
   "outputs": [],
   "source": [
    "#Splitting the data into Features & Targets\n",
    "X = new_dataset.drop(columns='Class', axis=1)\n",
    "Y = new_dataset['Class']"
   ]
  },
  {
   "cell_type": "code",
   "execution_count": 16,
   "id": "d5d93c93",
   "metadata": {
    "execution": {
     "iopub.execute_input": "2025-10-16T07:36:35.841036Z",
     "iopub.status.busy": "2025-10-16T07:36:35.840572Z",
     "iopub.status.idle": "2025-10-16T07:36:35.857577Z",
     "shell.execute_reply": "2025-10-16T07:36:35.856420Z"
    },
    "papermill": {
     "duration": 0.025403,
     "end_time": "2025-10-16T07:36:35.859437",
     "exception": false,
     "start_time": "2025-10-16T07:36:35.834034",
     "status": "completed"
    },
    "tags": []
   },
   "outputs": [
    {
     "name": "stdout",
     "output_type": "stream",
     "text": [
      "            Time        V1        V2        V3        V4        V5        V6  \\\n",
      "235904  148585.0  1.949188 -0.464037 -0.047748  0.588117 -1.037688 -0.735822   \n",
      "109410   71372.0 -0.914467  0.946105  1.619607  0.828965  0.333241 -0.124421   \n",
      "223293  143325.0  0.141933  0.986198 -0.511039 -0.582414  0.970819 -0.707392   \n",
      "19663    30449.0  1.169812  0.229150  0.289911  0.530503 -0.157092 -0.284747   \n",
      "77662    57156.0 -0.727802 -0.090648  0.323406 -3.763793  1.414900  3.322604   \n",
      "...          ...       ...       ...       ...       ...       ...       ...   \n",
      "279863  169142.0 -1.927883  1.125653 -4.518331  1.749293 -1.566487 -2.010494   \n",
      "280143  169347.0  1.378559  1.289381 -5.004247  1.411850  0.442581 -1.326536   \n",
      "280149  169351.0 -0.676143  1.126366 -2.213700  0.468308 -1.120541 -0.003346   \n",
      "281144  169966.0 -3.113832  0.585864 -5.399730  1.817092 -0.840618 -2.943548   \n",
      "281674  170348.0  1.991976  0.158476 -2.583441  0.408670  1.151147 -0.096695   \n",
      "\n",
      "              V7        V8        V9  ...       V20       V21       V22  \\\n",
      "235904 -0.668243 -0.048585  1.266258  ... -0.218611  0.190349  0.767225   \n",
      "109410  1.027089 -0.144718 -0.976700  ...  0.126287  0.149850  0.468929   \n",
      "223293  0.991376 -0.089678 -0.007854  ...  0.036991 -0.351550 -0.890713   \n",
      "19663  -0.117716  0.102046 -0.177396  ... -0.123506 -0.212409 -0.632560   \n",
      "77662  -0.661762  0.932782 -2.340314  ...  0.054327 -0.543898 -1.270369   \n",
      "...          ...       ...       ...  ...       ...       ...       ...   \n",
      "279863 -0.882850  0.697211 -2.064945  ...  1.252967  0.778584 -0.319189   \n",
      "280143 -1.413170  0.248525 -1.127396  ...  0.226138  0.370612  0.028234   \n",
      "280149 -2.234739  1.210158 -0.652250  ...  0.247968  0.751826  0.834108   \n",
      "281144 -2.208002  1.058733 -1.632333  ...  0.306271  0.583276 -0.269209   \n",
      "281674  0.223050 -0.068384  0.577829  ... -0.017652 -0.164350 -0.295135   \n",
      "\n",
      "             V23       V24       V25       V26       V27       V28  Amount  \n",
      "235904  0.216989  0.404443 -0.351908  0.549451 -0.016926 -0.043599   11.50  \n",
      "109410 -0.275427  0.129456  0.494504 -0.181443 -0.031099  0.104092   80.00  \n",
      "223293  0.096383  0.363341 -0.394594  0.125735  0.217102  0.082616   13.48  \n",
      "19663   0.150114 -0.031885  0.101569  0.107996 -0.012751  0.016481    1.98  \n",
      "77662  -0.115410  0.917286  0.405952 -0.526054  0.409527  0.181729   12.00  \n",
      "...          ...       ...       ...       ...       ...       ...     ...  \n",
      "279863  0.639419 -0.294885  0.537503  0.788395  0.292680  0.147968  390.00  \n",
      "280143 -0.145640 -0.081049  0.521875  0.739467  0.389152  0.186637    0.76  \n",
      "280149  0.190944  0.032070 -0.739695  0.471111  0.385107  0.194361   77.89  \n",
      "281144 -0.456108 -0.183659 -0.328168  0.606116  0.884876 -0.253700  245.00  \n",
      "281674 -0.072173 -0.450261  0.313267 -0.289617  0.002988 -0.015309   42.53  \n",
      "\n",
      "[984 rows x 30 columns]\n"
     ]
    }
   ],
   "source": [
    "print(X)"
   ]
  },
  {
   "cell_type": "code",
   "execution_count": 17,
   "id": "92ed2fed",
   "metadata": {
    "execution": {
     "iopub.execute_input": "2025-10-16T07:36:35.872070Z",
     "iopub.status.busy": "2025-10-16T07:36:35.871464Z",
     "iopub.status.idle": "2025-10-16T07:36:35.879431Z",
     "shell.execute_reply": "2025-10-16T07:36:35.877982Z"
    },
    "papermill": {
     "duration": 0.016312,
     "end_time": "2025-10-16T07:36:35.881299",
     "exception": false,
     "start_time": "2025-10-16T07:36:35.864987",
     "status": "completed"
    },
    "tags": []
   },
   "outputs": [
    {
     "name": "stdout",
     "output_type": "stream",
     "text": [
      "235904    0\n",
      "109410    0\n",
      "223293    0\n",
      "19663     0\n",
      "77662     0\n",
      "         ..\n",
      "279863    1\n",
      "280143    1\n",
      "280149    1\n",
      "281144    1\n",
      "281674    1\n",
      "Name: Class, Length: 984, dtype: int64\n"
     ]
    }
   ],
   "source": [
    "print(Y)"
   ]
  },
  {
   "cell_type": "code",
   "execution_count": 18,
   "id": "50024d91",
   "metadata": {
    "execution": {
     "iopub.execute_input": "2025-10-16T07:36:35.894337Z",
     "iopub.status.busy": "2025-10-16T07:36:35.893948Z",
     "iopub.status.idle": "2025-10-16T07:36:35.905972Z",
     "shell.execute_reply": "2025-10-16T07:36:35.904369Z"
    },
    "papermill": {
     "duration": 0.020982,
     "end_time": "2025-10-16T07:36:35.907968",
     "exception": false,
     "start_time": "2025-10-16T07:36:35.886986",
     "status": "completed"
    },
    "tags": []
   },
   "outputs": [],
   "source": [
    "#Split the data into Training data & Testing Data\n",
    "X_train, X_test, Y_train, Y_test = train_test_split(X, Y, test_size=0.2, stratify=Y, random_state=2)"
   ]
  },
  {
   "cell_type": "code",
   "execution_count": 19,
   "id": "7b4658cd",
   "metadata": {
    "execution": {
     "iopub.execute_input": "2025-10-16T07:36:35.920514Z",
     "iopub.status.busy": "2025-10-16T07:36:35.920210Z",
     "iopub.status.idle": "2025-10-16T07:36:35.925639Z",
     "shell.execute_reply": "2025-10-16T07:36:35.924611Z"
    },
    "papermill": {
     "duration": 0.013938,
     "end_time": "2025-10-16T07:36:35.927577",
     "exception": false,
     "start_time": "2025-10-16T07:36:35.913639",
     "status": "completed"
    },
    "tags": []
   },
   "outputs": [],
   "source": [
    "model = LogisticRegression()"
   ]
  },
  {
   "cell_type": "code",
   "execution_count": 20,
   "id": "95497be9",
   "metadata": {
    "execution": {
     "iopub.execute_input": "2025-10-16T07:36:35.940272Z",
     "iopub.status.busy": "2025-10-16T07:36:35.939841Z",
     "iopub.status.idle": "2025-10-16T07:36:36.393491Z",
     "shell.execute_reply": "2025-10-16T07:36:36.391182Z"
    },
    "papermill": {
     "duration": 0.463184,
     "end_time": "2025-10-16T07:36:36.396337",
     "exception": false,
     "start_time": "2025-10-16T07:36:35.933153",
     "status": "completed"
    },
    "tags": []
   },
   "outputs": [
    {
     "name": "stderr",
     "output_type": "stream",
     "text": [
      "/usr/local/lib/python3.11/dist-packages/sklearn/linear_model/_logistic.py:458: ConvergenceWarning: lbfgs failed to converge (status=1):\n",
      "STOP: TOTAL NO. OF ITERATIONS REACHED LIMIT.\n",
      "\n",
      "Increase the number of iterations (max_iter) or scale the data as shown in:\n",
      "    https://scikit-learn.org/stable/modules/preprocessing.html\n",
      "Please also refer to the documentation for alternative solver options:\n",
      "    https://scikit-learn.org/stable/modules/linear_model.html#logistic-regression\n",
      "  n_iter_i = _check_optimize_result(\n"
     ]
    },
    {
     "data": {
      "text/html": [
       "<style>#sk-container-id-1 {color: black;background-color: white;}#sk-container-id-1 pre{padding: 0;}#sk-container-id-1 div.sk-toggleable {background-color: white;}#sk-container-id-1 label.sk-toggleable__label {cursor: pointer;display: block;width: 100%;margin-bottom: 0;padding: 0.3em;box-sizing: border-box;text-align: center;}#sk-container-id-1 label.sk-toggleable__label-arrow:before {content: \"▸\";float: left;margin-right: 0.25em;color: #696969;}#sk-container-id-1 label.sk-toggleable__label-arrow:hover:before {color: black;}#sk-container-id-1 div.sk-estimator:hover label.sk-toggleable__label-arrow:before {color: black;}#sk-container-id-1 div.sk-toggleable__content {max-height: 0;max-width: 0;overflow: hidden;text-align: left;background-color: #f0f8ff;}#sk-container-id-1 div.sk-toggleable__content pre {margin: 0.2em;color: black;border-radius: 0.25em;background-color: #f0f8ff;}#sk-container-id-1 input.sk-toggleable__control:checked~div.sk-toggleable__content {max-height: 200px;max-width: 100%;overflow: auto;}#sk-container-id-1 input.sk-toggleable__control:checked~label.sk-toggleable__label-arrow:before {content: \"▾\";}#sk-container-id-1 div.sk-estimator input.sk-toggleable__control:checked~label.sk-toggleable__label {background-color: #d4ebff;}#sk-container-id-1 div.sk-label input.sk-toggleable__control:checked~label.sk-toggleable__label {background-color: #d4ebff;}#sk-container-id-1 input.sk-hidden--visually {border: 0;clip: rect(1px 1px 1px 1px);clip: rect(1px, 1px, 1px, 1px);height: 1px;margin: -1px;overflow: hidden;padding: 0;position: absolute;width: 1px;}#sk-container-id-1 div.sk-estimator {font-family: monospace;background-color: #f0f8ff;border: 1px dotted black;border-radius: 0.25em;box-sizing: border-box;margin-bottom: 0.5em;}#sk-container-id-1 div.sk-estimator:hover {background-color: #d4ebff;}#sk-container-id-1 div.sk-parallel-item::after {content: \"\";width: 100%;border-bottom: 1px solid gray;flex-grow: 1;}#sk-container-id-1 div.sk-label:hover label.sk-toggleable__label {background-color: #d4ebff;}#sk-container-id-1 div.sk-serial::before {content: \"\";position: absolute;border-left: 1px solid gray;box-sizing: border-box;top: 0;bottom: 0;left: 50%;z-index: 0;}#sk-container-id-1 div.sk-serial {display: flex;flex-direction: column;align-items: center;background-color: white;padding-right: 0.2em;padding-left: 0.2em;position: relative;}#sk-container-id-1 div.sk-item {position: relative;z-index: 1;}#sk-container-id-1 div.sk-parallel {display: flex;align-items: stretch;justify-content: center;background-color: white;position: relative;}#sk-container-id-1 div.sk-item::before, #sk-container-id-1 div.sk-parallel-item::before {content: \"\";position: absolute;border-left: 1px solid gray;box-sizing: border-box;top: 0;bottom: 0;left: 50%;z-index: -1;}#sk-container-id-1 div.sk-parallel-item {display: flex;flex-direction: column;z-index: 1;position: relative;background-color: white;}#sk-container-id-1 div.sk-parallel-item:first-child::after {align-self: flex-end;width: 50%;}#sk-container-id-1 div.sk-parallel-item:last-child::after {align-self: flex-start;width: 50%;}#sk-container-id-1 div.sk-parallel-item:only-child::after {width: 0;}#sk-container-id-1 div.sk-dashed-wrapped {border: 1px dashed gray;margin: 0 0.4em 0.5em 0.4em;box-sizing: border-box;padding-bottom: 0.4em;background-color: white;}#sk-container-id-1 div.sk-label label {font-family: monospace;font-weight: bold;display: inline-block;line-height: 1.2em;}#sk-container-id-1 div.sk-label-container {text-align: center;}#sk-container-id-1 div.sk-container {/* jupyter's `normalize.less` sets `[hidden] { display: none; }` but bootstrap.min.css set `[hidden] { display: none !important; }` so we also need the `!important` here to be able to override the default hidden behavior on the sphinx rendered scikit-learn.org. See: https://github.com/scikit-learn/scikit-learn/issues/21755 */display: inline-block !important;position: relative;}#sk-container-id-1 div.sk-text-repr-fallback {display: none;}</style><div id=\"sk-container-id-1\" class=\"sk-top-container\"><div class=\"sk-text-repr-fallback\"><pre>LogisticRegression()</pre><b>In a Jupyter environment, please rerun this cell to show the HTML representation or trust the notebook. <br />On GitHub, the HTML representation is unable to render, please try loading this page with nbviewer.org.</b></div><div class=\"sk-container\" hidden><div class=\"sk-item\"><div class=\"sk-estimator sk-toggleable\"><input class=\"sk-toggleable__control sk-hidden--visually\" id=\"sk-estimator-id-1\" type=\"checkbox\" checked><label for=\"sk-estimator-id-1\" class=\"sk-toggleable__label sk-toggleable__label-arrow\">LogisticRegression</label><div class=\"sk-toggleable__content\"><pre>LogisticRegression()</pre></div></div></div></div></div>"
      ],
      "text/plain": [
       "LogisticRegression()"
      ]
     },
     "execution_count": 20,
     "metadata": {},
     "output_type": "execute_result"
    }
   ],
   "source": [
    "model.fit(X_train,Y_train)"
   ]
  },
  {
   "cell_type": "code",
   "execution_count": null,
   "id": "759a0f0d",
   "metadata": {
    "papermill": {
     "duration": 0.008906,
     "end_time": "2025-10-16T07:36:36.414580",
     "exception": false,
     "start_time": "2025-10-16T07:36:36.405674",
     "status": "completed"
    },
    "tags": []
   },
   "outputs": [],
   "source": []
  }
 ],
 "metadata": {
  "kaggle": {
   "accelerator": "none",
   "dataSources": [
    {
     "datasetId": 310,
     "sourceId": 23498,
     "sourceType": "datasetVersion"
    }
   ],
   "dockerImageVersionId": 31153,
   "isGpuEnabled": false,
   "isInternetEnabled": true,
   "language": "python",
   "sourceType": "notebook"
  },
  "kernelspec": {
   "display_name": "Python 3",
   "language": "python",
   "name": "python3"
  },
  "language_info": {
   "codemirror_mode": {
    "name": "ipython",
    "version": 3
   },
   "file_extension": ".py",
   "mimetype": "text/x-python",
   "name": "python",
   "nbconvert_exporter": "python",
   "pygments_lexer": "ipython3",
   "version": "3.11.13"
  },
  "papermill": {
   "default_parameters": {},
   "duration": 16.541279,
   "end_time": "2025-10-16T07:36:37.245327",
   "environment_variables": {},
   "exception": null,
   "input_path": "__notebook__.ipynb",
   "output_path": "__notebook__.ipynb",
   "parameters": {},
   "start_time": "2025-10-16T07:36:20.704048",
   "version": "2.6.0"
  }
 },
 "nbformat": 4,
 "nbformat_minor": 5
}
