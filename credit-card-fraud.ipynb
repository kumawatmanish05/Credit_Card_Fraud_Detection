{
 "cells": [
  {
   "cell_type": "code",
   "execution_count": 1,
   "id": "dfb9ff81",
   "metadata": {
    "execution": {
     "iopub.execute_input": "2025-10-16T07:19:36.785269Z",
     "iopub.status.busy": "2025-10-16T07:19:36.784932Z",
     "iopub.status.idle": "2025-10-16T07:19:41.139802Z",
     "shell.execute_reply": "2025-10-16T07:19:41.138347Z"
    },
    "papermill": {
     "duration": 4.360423,
     "end_time": "2025-10-16T07:19:41.141808",
     "exception": false,
     "start_time": "2025-10-16T07:19:36.781385",
     "status": "completed"
    },
    "tags": []
   },
   "outputs": [],
   "source": [
    "import numpy as np\n",
    "import pandas as pd\n",
    "from sklearn.model_selection import train_test_split\n",
    "from sklearn.linear_model import LogisticRegression\n",
    "from sklearn.metrics import accuracy_score"
   ]
  },
  {
   "cell_type": "code",
   "execution_count": 2,
   "id": "0f503e0f",
   "metadata": {
    "execution": {
     "iopub.execute_input": "2025-10-16T07:19:41.148056Z",
     "iopub.status.busy": "2025-10-16T07:19:41.146795Z",
     "iopub.status.idle": "2025-10-16T07:19:46.074007Z",
     "shell.execute_reply": "2025-10-16T07:19:46.072219Z"
    },
    "papermill": {
     "duration": 4.932059,
     "end_time": "2025-10-16T07:19:46.076143",
     "exception": false,
     "start_time": "2025-10-16T07:19:41.144084",
     "status": "completed"
    },
    "tags": []
   },
   "outputs": [
    {
     "name": "stdout",
     "output_type": "stream",
     "text": [
      "   Time        V1        V2        V3        V4        V5        V6        V7  \\\n",
      "0   0.0 -1.359807 -0.072781  2.536347  1.378155 -0.338321  0.462388  0.239599   \n",
      "1   0.0  1.191857  0.266151  0.166480  0.448154  0.060018 -0.082361 -0.078803   \n",
      "2   1.0 -1.358354 -1.340163  1.773209  0.379780 -0.503198  1.800499  0.791461   \n",
      "3   1.0 -0.966272 -0.185226  1.792993 -0.863291 -0.010309  1.247203  0.237609   \n",
      "4   2.0 -1.158233  0.877737  1.548718  0.403034 -0.407193  0.095921  0.592941   \n",
      "\n",
      "         V8        V9  ...       V21       V22       V23       V24       V25  \\\n",
      "0  0.098698  0.363787  ... -0.018307  0.277838 -0.110474  0.066928  0.128539   \n",
      "1  0.085102 -0.255425  ... -0.225775 -0.638672  0.101288 -0.339846  0.167170   \n",
      "2  0.247676 -1.514654  ...  0.247998  0.771679  0.909412 -0.689281 -0.327642   \n",
      "3  0.377436 -1.387024  ... -0.108300  0.005274 -0.190321 -1.175575  0.647376   \n",
      "4 -0.270533  0.817739  ... -0.009431  0.798278 -0.137458  0.141267 -0.206010   \n",
      "\n",
      "        V26       V27       V28  Amount  Class  \n",
      "0 -0.189115  0.133558 -0.021053  149.62      0  \n",
      "1  0.125895 -0.008983  0.014724    2.69      0  \n",
      "2 -0.139097 -0.055353 -0.059752  378.66      0  \n",
      "3 -0.221929  0.062723  0.061458  123.50      0  \n",
      "4  0.502292  0.219422  0.215153   69.99      0  \n",
      "\n",
      "[5 rows x 31 columns]\n"
     ]
    }
   ],
   "source": [
    "import kagglehub\n",
    "from kagglehub.datasets import dataset_load, KaggleDatasetAdapter\n",
    "\n",
    "# Load the latest version of the dataset\n",
    "df = dataset_load(\n",
    "    KaggleDatasetAdapter.PANDAS,\n",
    "    \"mlg-ulb/creditcardfraud\",\n",
    "    path=\"creditcard.csv\"  # 👈 specify the file inside the dataset\n",
    ")\n",
    "\n",
    "print(df.head())\n"
   ]
  }
 ],
 "metadata": {
  "kaggle": {
   "accelerator": "none",
   "dataSources": [
    {
     "datasetId": 310,
     "sourceId": 23498,
     "sourceType": "datasetVersion"
    }
   ],
   "dockerImageVersionId": 31153,
   "isGpuEnabled": false,
   "isInternetEnabled": true,
   "language": "python",
   "sourceType": "notebook"
  },
  "kernelspec": {
   "display_name": "Python 3",
   "language": "python",
   "name": "python3"
  },
  "language_info": {
   "codemirror_mode": {
    "name": "ipython",
    "version": 3
   },
   "file_extension": ".py",
   "mimetype": "text/x-python",
   "name": "python",
   "nbconvert_exporter": "python",
   "pygments_lexer": "ipython3",
   "version": "3.11.13"
  },
  "papermill": {
   "default_parameters": {},
   "duration": 18.547713,
   "end_time": "2025-10-16T07:19:49.348115",
   "environment_variables": {},
   "exception": null,
   "input_path": "__notebook__.ipynb",
   "output_path": "__notebook__.ipynb",
   "parameters": {},
   "start_time": "2025-10-16T07:19:30.800402",
   "version": "2.6.0"
  }
 },
 "nbformat": 4,
 "nbformat_minor": 5
}
