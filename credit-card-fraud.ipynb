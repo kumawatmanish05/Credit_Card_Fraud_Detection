{
 "cells": [
  {
   "cell_type": "code",
   "execution_count": 1,
   "id": "0a59f9fe",
   "metadata": {
    "execution": {
     "iopub.execute_input": "2025-10-16T07:40:47.466085Z",
     "iopub.status.busy": "2025-10-16T07:40:47.465715Z",
     "iopub.status.idle": "2025-10-16T07:40:51.469549Z",
     "shell.execute_reply": "2025-10-16T07:40:51.468590Z"
    },
    "papermill": {
     "duration": 4.014041,
     "end_time": "2025-10-16T07:40:51.471393",
     "exception": false,
     "start_time": "2025-10-16T07:40:47.457352",
     "status": "completed"
    },
    "tags": []
   },
   "outputs": [],
   "source": [
    "import numpy as np\n",
    "import pandas as pd\n",
    "from sklearn.model_selection import train_test_split\n",
    "from sklearn.linear_model import LogisticRegression\n",
    "from sklearn.metrics import accuracy_score"
   ]
  },
  {
   "cell_type": "code",
   "execution_count": 2,
   "id": "4887972e",
   "metadata": {
    "execution": {
     "iopub.execute_input": "2025-10-16T07:40:51.483607Z",
     "iopub.status.busy": "2025-10-16T07:40:51.482503Z",
     "iopub.status.idle": "2025-10-16T07:40:56.193205Z",
     "shell.execute_reply": "2025-10-16T07:40:56.191415Z"
    },
    "papermill": {
     "duration": 4.718681,
     "end_time": "2025-10-16T07:40:56.195133",
     "exception": false,
     "start_time": "2025-10-16T07:40:51.476452",
     "status": "completed"
    },
    "tags": []
   },
   "outputs": [
    {
     "name": "stdout",
     "output_type": "stream",
     "text": [
      "   Time        V1        V2        V3        V4        V5        V6        V7  \\\n",
      "0   0.0 -1.359807 -0.072781  2.536347  1.378155 -0.338321  0.462388  0.239599   \n",
      "1   0.0  1.191857  0.266151  0.166480  0.448154  0.060018 -0.082361 -0.078803   \n",
      "2   1.0 -1.358354 -1.340163  1.773209  0.379780 -0.503198  1.800499  0.791461   \n",
      "3   1.0 -0.966272 -0.185226  1.792993 -0.863291 -0.010309  1.247203  0.237609   \n",
      "4   2.0 -1.158233  0.877737  1.548718  0.403034 -0.407193  0.095921  0.592941   \n",
      "\n",
      "         V8        V9  ...       V21       V22       V23       V24       V25  \\\n",
      "0  0.098698  0.363787  ... -0.018307  0.277838 -0.110474  0.066928  0.128539   \n",
      "1  0.085102 -0.255425  ... -0.225775 -0.638672  0.101288 -0.339846  0.167170   \n",
      "2  0.247676 -1.514654  ...  0.247998  0.771679  0.909412 -0.689281 -0.327642   \n",
      "3  0.377436 -1.387024  ... -0.108300  0.005274 -0.190321 -1.175575  0.647376   \n",
      "4 -0.270533  0.817739  ... -0.009431  0.798278 -0.137458  0.141267 -0.206010   \n",
      "\n",
      "        V26       V27       V28  Amount  Class  \n",
      "0 -0.189115  0.133558 -0.021053  149.62      0  \n",
      "1  0.125895 -0.008983  0.014724    2.69      0  \n",
      "2 -0.139097 -0.055353 -0.059752  378.66      0  \n",
      "3 -0.221929  0.062723  0.061458  123.50      0  \n",
      "4  0.502292  0.219422  0.215153   69.99      0  \n",
      "\n",
      "[5 rows x 31 columns]\n"
     ]
    }
   ],
   "source": [
    "import kagglehub\n",
    "from kagglehub.datasets import dataset_load, KaggleDatasetAdapter\n",
    "\n",
    "# Load the latest version of the dataset\n",
    "df = dataset_load(\n",
    "    KaggleDatasetAdapter.PANDAS,\n",
    "    \"mlg-ulb/creditcardfraud\",\n",
    "    path=\"creditcard.csv\"  # 👈 specify the file inside the dataset\n",
    ")\n",
    "\n",
    "print(df.head())\n"
   ]
  },
  {
   "cell_type": "code",
   "execution_count": 3,
   "id": "d152afdf",
   "metadata": {
    "execution": {
     "iopub.execute_input": "2025-10-16T07:40:56.206795Z",
     "iopub.status.busy": "2025-10-16T07:40:56.206448Z",
     "iopub.status.idle": "2025-10-16T07:40:56.266561Z",
     "shell.execute_reply": "2025-10-16T07:40:56.265317Z"
    },
    "papermill": {
     "duration": 0.067922,
     "end_time": "2025-10-16T07:40:56.268128",
     "exception": false,
     "start_time": "2025-10-16T07:40:56.200206",
     "status": "completed"
    },
    "tags": []
   },
   "outputs": [
    {
     "name": "stdout",
     "output_type": "stream",
     "text": [
      "<class 'pandas.core.frame.DataFrame'>\n",
      "RangeIndex: 284807 entries, 0 to 284806\n",
      "Data columns (total 31 columns):\n",
      " #   Column  Non-Null Count   Dtype  \n",
      "---  ------  --------------   -----  \n",
      " 0   Time    284807 non-null  float64\n",
      " 1   V1      284807 non-null  float64\n",
      " 2   V2      284807 non-null  float64\n",
      " 3   V3      284807 non-null  float64\n",
      " 4   V4      284807 non-null  float64\n",
      " 5   V5      284807 non-null  float64\n",
      " 6   V6      284807 non-null  float64\n",
      " 7   V7      284807 non-null  float64\n",
      " 8   V8      284807 non-null  float64\n",
      " 9   V9      284807 non-null  float64\n",
      " 10  V10     284807 non-null  float64\n",
      " 11  V11     284807 non-null  float64\n",
      " 12  V12     284807 non-null  float64\n",
      " 13  V13     284807 non-null  float64\n",
      " 14  V14     284807 non-null  float64\n",
      " 15  V15     284807 non-null  float64\n",
      " 16  V16     284807 non-null  float64\n",
      " 17  V17     284807 non-null  float64\n",
      " 18  V18     284807 non-null  float64\n",
      " 19  V19     284807 non-null  float64\n",
      " 20  V20     284807 non-null  float64\n",
      " 21  V21     284807 non-null  float64\n",
      " 22  V22     284807 non-null  float64\n",
      " 23  V23     284807 non-null  float64\n",
      " 24  V24     284807 non-null  float64\n",
      " 25  V25     284807 non-null  float64\n",
      " 26  V26     284807 non-null  float64\n",
      " 27  V27     284807 non-null  float64\n",
      " 28  V28     284807 non-null  float64\n",
      " 29  Amount  284807 non-null  float64\n",
      " 30  Class   284807 non-null  int64  \n",
      "dtypes: float64(30), int64(1)\n",
      "memory usage: 67.4 MB\n"
     ]
    }
   ],
   "source": [
    "df.info()"
   ]
  },
  {
   "cell_type": "code",
   "execution_count": 4,
   "id": "4134bb36",
   "metadata": {
    "execution": {
     "iopub.execute_input": "2025-10-16T07:40:56.280602Z",
     "iopub.status.busy": "2025-10-16T07:40:56.279632Z",
     "iopub.status.idle": "2025-10-16T07:40:56.319372Z",
     "shell.execute_reply": "2025-10-16T07:40:56.318298Z"
    },
    "papermill": {
     "duration": 0.047804,
     "end_time": "2025-10-16T07:40:56.321106",
     "exception": false,
     "start_time": "2025-10-16T07:40:56.273302",
     "status": "completed"
    },
    "tags": []
   },
   "outputs": [
    {
     "data": {
      "text/plain": [
       "Time      0\n",
       "V1        0\n",
       "V2        0\n",
       "V3        0\n",
       "V4        0\n",
       "V5        0\n",
       "V6        0\n",
       "V7        0\n",
       "V8        0\n",
       "V9        0\n",
       "V10       0\n",
       "V11       0\n",
       "V12       0\n",
       "V13       0\n",
       "V14       0\n",
       "V15       0\n",
       "V16       0\n",
       "V17       0\n",
       "V18       0\n",
       "V19       0\n",
       "V20       0\n",
       "V21       0\n",
       "V22       0\n",
       "V23       0\n",
       "V24       0\n",
       "V25       0\n",
       "V26       0\n",
       "V27       0\n",
       "V28       0\n",
       "Amount    0\n",
       "Class     0\n",
       "dtype: int64"
      ]
     },
     "execution_count": 4,
     "metadata": {},
     "output_type": "execute_result"
    }
   ],
   "source": [
    "df.isnull().sum()"
   ]
  },
  {
   "cell_type": "code",
   "execution_count": 5,
   "id": "32041215",
   "metadata": {
    "execution": {
     "iopub.execute_input": "2025-10-16T07:40:56.333238Z",
     "iopub.status.busy": "2025-10-16T07:40:56.332679Z",
     "iopub.status.idle": "2025-10-16T07:40:56.348736Z",
     "shell.execute_reply": "2025-10-16T07:40:56.347824Z"
    },
    "papermill": {
     "duration": 0.023837,
     "end_time": "2025-10-16T07:40:56.350379",
     "exception": false,
     "start_time": "2025-10-16T07:40:56.326542",
     "status": "completed"
    },
    "tags": []
   },
   "outputs": [
    {
     "data": {
      "text/plain": [
       "Class\n",
       "0    284315\n",
       "1       492\n",
       "Name: count, dtype: int64"
      ]
     },
     "execution_count": 5,
     "metadata": {},
     "output_type": "execute_result"
    }
   ],
   "source": [
    "# distribution of legit transactions & fraudulent transactions\n",
    "df['Class'].value_counts()"
   ]
  },
  {
   "cell_type": "markdown",
   "id": "cedfafba",
   "metadata": {
    "papermill": {
     "duration": 0.00537,
     "end_time": "2025-10-16T07:40:56.361748",
     "exception": false,
     "start_time": "2025-10-16T07:40:56.356378",
     "status": "completed"
    },
    "tags": []
   },
   "source": [
    "This Dataset is highly unblanced\n",
    "\n",
    "0 --> Normal Transaction\n",
    "\n",
    "1 --> fraudulent transaction"
   ]
  },
  {
   "cell_type": "code",
   "execution_count": 6,
   "id": "6c1bff81",
   "metadata": {
    "execution": {
     "iopub.execute_input": "2025-10-16T07:40:56.373627Z",
     "iopub.status.busy": "2025-10-16T07:40:56.373306Z",
     "iopub.status.idle": "2025-10-16T07:40:56.431056Z",
     "shell.execute_reply": "2025-10-16T07:40:56.430157Z"
    },
    "papermill": {
     "duration": 0.065709,
     "end_time": "2025-10-16T07:40:56.432648",
     "exception": false,
     "start_time": "2025-10-16T07:40:56.366939",
     "status": "completed"
    },
    "tags": []
   },
   "outputs": [],
   "source": [
    "# separating the data for analysis\n",
    "legit = df[df.Class == 0]\n",
    "fraud = df[df.Class == 1]"
   ]
  },
  {
   "cell_type": "code",
   "execution_count": 7,
   "id": "863cd7e7",
   "metadata": {
    "execution": {
     "iopub.execute_input": "2025-10-16T07:40:56.445412Z",
     "iopub.status.busy": "2025-10-16T07:40:56.445099Z",
     "iopub.status.idle": "2025-10-16T07:40:56.450497Z",
     "shell.execute_reply": "2025-10-16T07:40:56.449202Z"
    },
    "papermill": {
     "duration": 0.014324,
     "end_time": "2025-10-16T07:40:56.452226",
     "exception": false,
     "start_time": "2025-10-16T07:40:56.437902",
     "status": "completed"
    },
    "tags": []
   },
   "outputs": [
    {
     "name": "stdout",
     "output_type": "stream",
     "text": [
      "(284315, 31)\n",
      "(492, 31)\n"
     ]
    }
   ],
   "source": [
    "print(legit.shape)\n",
    "print(fraud.shape)"
   ]
  },
  {
   "cell_type": "code",
   "execution_count": 8,
   "id": "4fb4866d",
   "metadata": {
    "execution": {
     "iopub.execute_input": "2025-10-16T07:40:56.465812Z",
     "iopub.status.busy": "2025-10-16T07:40:56.465410Z",
     "iopub.status.idle": "2025-10-16T07:40:56.490391Z",
     "shell.execute_reply": "2025-10-16T07:40:56.489311Z"
    },
    "papermill": {
     "duration": 0.034487,
     "end_time": "2025-10-16T07:40:56.492156",
     "exception": false,
     "start_time": "2025-10-16T07:40:56.457669",
     "status": "completed"
    },
    "tags": []
   },
   "outputs": [
    {
     "data": {
      "text/plain": [
       "count    284315.000000\n",
       "mean         88.291022\n",
       "std         250.105092\n",
       "min           0.000000\n",
       "25%           5.650000\n",
       "50%          22.000000\n",
       "75%          77.050000\n",
       "max       25691.160000\n",
       "Name: Amount, dtype: float64"
      ]
     },
     "execution_count": 8,
     "metadata": {},
     "output_type": "execute_result"
    }
   ],
   "source": [
    "# statistical measures of the data\n",
    "legit.Amount.describe()"
   ]
  },
  {
   "cell_type": "code",
   "execution_count": 9,
   "id": "87be3948",
   "metadata": {
    "execution": {
     "iopub.execute_input": "2025-10-16T07:40:56.505316Z",
     "iopub.status.busy": "2025-10-16T07:40:56.504840Z",
     "iopub.status.idle": "2025-10-16T07:40:56.516190Z",
     "shell.execute_reply": "2025-10-16T07:40:56.515030Z"
    },
    "papermill": {
     "duration": 0.01993,
     "end_time": "2025-10-16T07:40:56.517907",
     "exception": false,
     "start_time": "2025-10-16T07:40:56.497977",
     "status": "completed"
    },
    "tags": []
   },
   "outputs": [
    {
     "data": {
      "text/plain": [
       "count     492.000000\n",
       "mean      122.211321\n",
       "std       256.683288\n",
       "min         0.000000\n",
       "25%         1.000000\n",
       "50%         9.250000\n",
       "75%       105.890000\n",
       "max      2125.870000\n",
       "Name: Amount, dtype: float64"
      ]
     },
     "execution_count": 9,
     "metadata": {},
     "output_type": "execute_result"
    }
   ],
   "source": [
    "fraud.Amount.describe()"
   ]
  },
  {
   "cell_type": "code",
   "execution_count": 10,
   "id": "c3579710",
   "metadata": {
    "execution": {
     "iopub.execute_input": "2025-10-16T07:40:56.530826Z",
     "iopub.status.busy": "2025-10-16T07:40:56.530431Z",
     "iopub.status.idle": "2025-10-16T07:40:56.679269Z",
     "shell.execute_reply": "2025-10-16T07:40:56.678063Z"
    },
    "papermill": {
     "duration": 0.158167,
     "end_time": "2025-10-16T07:40:56.681596",
     "exception": false,
     "start_time": "2025-10-16T07:40:56.523429",
     "status": "completed"
    },
    "tags": []
   },
   "outputs": [
    {
     "data": {
      "text/html": [
       "<div>\n",
       "<style scoped>\n",
       "    .dataframe tbody tr th:only-of-type {\n",
       "        vertical-align: middle;\n",
       "    }\n",
       "\n",
       "    .dataframe tbody tr th {\n",
       "        vertical-align: top;\n",
       "    }\n",
       "\n",
       "    .dataframe thead th {\n",
       "        text-align: right;\n",
       "    }\n",
       "</style>\n",
       "<table border=\"1\" class=\"dataframe\">\n",
       "  <thead>\n",
       "    <tr style=\"text-align: right;\">\n",
       "      <th></th>\n",
       "      <th>Time</th>\n",
       "      <th>V1</th>\n",
       "      <th>V2</th>\n",
       "      <th>V3</th>\n",
       "      <th>V4</th>\n",
       "      <th>V5</th>\n",
       "      <th>V6</th>\n",
       "      <th>V7</th>\n",
       "      <th>V8</th>\n",
       "      <th>V9</th>\n",
       "      <th>...</th>\n",
       "      <th>V20</th>\n",
       "      <th>V21</th>\n",
       "      <th>V22</th>\n",
       "      <th>V23</th>\n",
       "      <th>V24</th>\n",
       "      <th>V25</th>\n",
       "      <th>V26</th>\n",
       "      <th>V27</th>\n",
       "      <th>V28</th>\n",
       "      <th>Amount</th>\n",
       "    </tr>\n",
       "    <tr>\n",
       "      <th>Class</th>\n",
       "      <th></th>\n",
       "      <th></th>\n",
       "      <th></th>\n",
       "      <th></th>\n",
       "      <th></th>\n",
       "      <th></th>\n",
       "      <th></th>\n",
       "      <th></th>\n",
       "      <th></th>\n",
       "      <th></th>\n",
       "      <th></th>\n",
       "      <th></th>\n",
       "      <th></th>\n",
       "      <th></th>\n",
       "      <th></th>\n",
       "      <th></th>\n",
       "      <th></th>\n",
       "      <th></th>\n",
       "      <th></th>\n",
       "      <th></th>\n",
       "      <th></th>\n",
       "    </tr>\n",
       "  </thead>\n",
       "  <tbody>\n",
       "    <tr>\n",
       "      <th>0</th>\n",
       "      <td>94838.202258</td>\n",
       "      <td>0.008258</td>\n",
       "      <td>-0.006271</td>\n",
       "      <td>0.012171</td>\n",
       "      <td>-0.007860</td>\n",
       "      <td>0.005453</td>\n",
       "      <td>0.002419</td>\n",
       "      <td>0.009637</td>\n",
       "      <td>-0.000987</td>\n",
       "      <td>0.004467</td>\n",
       "      <td>...</td>\n",
       "      <td>-0.000644</td>\n",
       "      <td>-0.001235</td>\n",
       "      <td>-0.000024</td>\n",
       "      <td>0.000070</td>\n",
       "      <td>0.000182</td>\n",
       "      <td>-0.000072</td>\n",
       "      <td>-0.000089</td>\n",
       "      <td>-0.000295</td>\n",
       "      <td>-0.000131</td>\n",
       "      <td>88.291022</td>\n",
       "    </tr>\n",
       "    <tr>\n",
       "      <th>1</th>\n",
       "      <td>80746.806911</td>\n",
       "      <td>-4.771948</td>\n",
       "      <td>3.623778</td>\n",
       "      <td>-7.033281</td>\n",
       "      <td>4.542029</td>\n",
       "      <td>-3.151225</td>\n",
       "      <td>-1.397737</td>\n",
       "      <td>-5.568731</td>\n",
       "      <td>0.570636</td>\n",
       "      <td>-2.581123</td>\n",
       "      <td>...</td>\n",
       "      <td>0.372319</td>\n",
       "      <td>0.713588</td>\n",
       "      <td>0.014049</td>\n",
       "      <td>-0.040308</td>\n",
       "      <td>-0.105130</td>\n",
       "      <td>0.041449</td>\n",
       "      <td>0.051648</td>\n",
       "      <td>0.170575</td>\n",
       "      <td>0.075667</td>\n",
       "      <td>122.211321</td>\n",
       "    </tr>\n",
       "  </tbody>\n",
       "</table>\n",
       "<p>2 rows × 30 columns</p>\n",
       "</div>"
      ],
      "text/plain": [
       "               Time        V1        V2        V3        V4        V5  \\\n",
       "Class                                                                   \n",
       "0      94838.202258  0.008258 -0.006271  0.012171 -0.007860  0.005453   \n",
       "1      80746.806911 -4.771948  3.623778 -7.033281  4.542029 -3.151225   \n",
       "\n",
       "             V6        V7        V8        V9  ...       V20       V21  \\\n",
       "Class                                          ...                       \n",
       "0      0.002419  0.009637 -0.000987  0.004467  ... -0.000644 -0.001235   \n",
       "1     -1.397737 -5.568731  0.570636 -2.581123  ...  0.372319  0.713588   \n",
       "\n",
       "            V22       V23       V24       V25       V26       V27       V28  \\\n",
       "Class                                                                         \n",
       "0     -0.000024  0.000070  0.000182 -0.000072 -0.000089 -0.000295 -0.000131   \n",
       "1      0.014049 -0.040308 -0.105130  0.041449  0.051648  0.170575  0.075667   \n",
       "\n",
       "           Amount  \n",
       "Class              \n",
       "0       88.291022  \n",
       "1      122.211321  \n",
       "\n",
       "[2 rows x 30 columns]"
      ]
     },
     "execution_count": 10,
     "metadata": {},
     "output_type": "execute_result"
    }
   ],
   "source": [
    "# compare the values for both transaction\n",
    "df.groupby('Class').mean()"
   ]
  },
  {
   "cell_type": "markdown",
   "id": "de216bbf",
   "metadata": {
    "papermill": {
     "duration": 0.005464,
     "end_time": "2025-10-16T07:40:56.694250",
     "exception": false,
     "start_time": "2025-10-16T07:40:56.688786",
     "status": "completed"
    },
    "tags": []
   },
   "source": [
    "\n",
    "> Under-SamplingBuild a sample dataset containing similar distribution of normal transactions and Fraudulent TransactionsNumber of Fraudulent Transactions --> 492\n"
   ]
  },
  {
   "cell_type": "code",
   "execution_count": 11,
   "id": "c8533110",
   "metadata": {
    "execution": {
     "iopub.execute_input": "2025-10-16T07:40:56.706619Z",
     "iopub.status.busy": "2025-10-16T07:40:56.706280Z",
     "iopub.status.idle": "2025-10-16T07:40:56.719969Z",
     "shell.execute_reply": "2025-10-16T07:40:56.719015Z"
    },
    "papermill": {
     "duration": 0.021579,
     "end_time": "2025-10-16T07:40:56.721493",
     "exception": false,
     "start_time": "2025-10-16T07:40:56.699914",
     "status": "completed"
    },
    "tags": []
   },
   "outputs": [],
   "source": [
    "legit_sample = legit.sample(n=492)"
   ]
  },
  {
   "cell_type": "code",
   "execution_count": 12,
   "id": "773d28b1",
   "metadata": {
    "execution": {
     "iopub.execute_input": "2025-10-16T07:40:56.733815Z",
     "iopub.status.busy": "2025-10-16T07:40:56.733485Z",
     "iopub.status.idle": "2025-10-16T07:40:56.739245Z",
     "shell.execute_reply": "2025-10-16T07:40:56.738129Z"
    },
    "papermill": {
     "duration": 0.013738,
     "end_time": "2025-10-16T07:40:56.740959",
     "exception": false,
     "start_time": "2025-10-16T07:40:56.727221",
     "status": "completed"
    },
    "tags": []
   },
   "outputs": [],
   "source": [
    "new_dataset = pd.concat([legit_sample, fraud], axis=0)"
   ]
  },
  {
   "cell_type": "code",
   "execution_count": 13,
   "id": "b9fb19ac",
   "metadata": {
    "execution": {
     "iopub.execute_input": "2025-10-16T07:40:56.753523Z",
     "iopub.status.busy": "2025-10-16T07:40:56.753206Z",
     "iopub.status.idle": "2025-10-16T07:40:56.760461Z",
     "shell.execute_reply": "2025-10-16T07:40:56.759546Z"
    },
    "papermill": {
     "duration": 0.015426,
     "end_time": "2025-10-16T07:40:56.762114",
     "exception": false,
     "start_time": "2025-10-16T07:40:56.746688",
     "status": "completed"
    },
    "tags": []
   },
   "outputs": [
    {
     "data": {
      "text/plain": [
       "Class\n",
       "0    492\n",
       "1    492\n",
       "Name: count, dtype: int64"
      ]
     },
     "execution_count": 13,
     "metadata": {},
     "output_type": "execute_result"
    }
   ],
   "source": [
    "new_dataset['Class'].value_counts()"
   ]
  },
  {
   "cell_type": "code",
   "execution_count": 14,
   "id": "51c5b828",
   "metadata": {
    "execution": {
     "iopub.execute_input": "2025-10-16T07:40:56.776079Z",
     "iopub.status.busy": "2025-10-16T07:40:56.775699Z",
     "iopub.status.idle": "2025-10-16T07:40:56.798391Z",
     "shell.execute_reply": "2025-10-16T07:40:56.797309Z"
    },
    "papermill": {
     "duration": 0.03235,
     "end_time": "2025-10-16T07:40:56.800322",
     "exception": false,
     "start_time": "2025-10-16T07:40:56.767972",
     "status": "completed"
    },
    "tags": []
   },
   "outputs": [
    {
     "data": {
      "text/html": [
       "<div>\n",
       "<style scoped>\n",
       "    .dataframe tbody tr th:only-of-type {\n",
       "        vertical-align: middle;\n",
       "    }\n",
       "\n",
       "    .dataframe tbody tr th {\n",
       "        vertical-align: top;\n",
       "    }\n",
       "\n",
       "    .dataframe thead th {\n",
       "        text-align: right;\n",
       "    }\n",
       "</style>\n",
       "<table border=\"1\" class=\"dataframe\">\n",
       "  <thead>\n",
       "    <tr style=\"text-align: right;\">\n",
       "      <th></th>\n",
       "      <th>Time</th>\n",
       "      <th>V1</th>\n",
       "      <th>V2</th>\n",
       "      <th>V3</th>\n",
       "      <th>V4</th>\n",
       "      <th>V5</th>\n",
       "      <th>V6</th>\n",
       "      <th>V7</th>\n",
       "      <th>V8</th>\n",
       "      <th>V9</th>\n",
       "      <th>...</th>\n",
       "      <th>V20</th>\n",
       "      <th>V21</th>\n",
       "      <th>V22</th>\n",
       "      <th>V23</th>\n",
       "      <th>V24</th>\n",
       "      <th>V25</th>\n",
       "      <th>V26</th>\n",
       "      <th>V27</th>\n",
       "      <th>V28</th>\n",
       "      <th>Amount</th>\n",
       "    </tr>\n",
       "    <tr>\n",
       "      <th>Class</th>\n",
       "      <th></th>\n",
       "      <th></th>\n",
       "      <th></th>\n",
       "      <th></th>\n",
       "      <th></th>\n",
       "      <th></th>\n",
       "      <th></th>\n",
       "      <th></th>\n",
       "      <th></th>\n",
       "      <th></th>\n",
       "      <th></th>\n",
       "      <th></th>\n",
       "      <th></th>\n",
       "      <th></th>\n",
       "      <th></th>\n",
       "      <th></th>\n",
       "      <th></th>\n",
       "      <th></th>\n",
       "      <th></th>\n",
       "      <th></th>\n",
       "      <th></th>\n",
       "    </tr>\n",
       "  </thead>\n",
       "  <tbody>\n",
       "    <tr>\n",
       "      <th>0</th>\n",
       "      <td>92356.628049</td>\n",
       "      <td>-0.019933</td>\n",
       "      <td>-0.035513</td>\n",
       "      <td>0.133861</td>\n",
       "      <td>-0.055490</td>\n",
       "      <td>-0.044426</td>\n",
       "      <td>-0.157950</td>\n",
       "      <td>0.016224</td>\n",
       "      <td>-0.048561</td>\n",
       "      <td>-0.004040</td>\n",
       "      <td>...</td>\n",
       "      <td>0.019628</td>\n",
       "      <td>0.010868</td>\n",
       "      <td>0.045893</td>\n",
       "      <td>-0.012051</td>\n",
       "      <td>-0.028322</td>\n",
       "      <td>0.018527</td>\n",
       "      <td>0.016761</td>\n",
       "      <td>-0.025224</td>\n",
       "      <td>0.011759</td>\n",
       "      <td>84.464167</td>\n",
       "    </tr>\n",
       "    <tr>\n",
       "      <th>1</th>\n",
       "      <td>80746.806911</td>\n",
       "      <td>-4.771948</td>\n",
       "      <td>3.623778</td>\n",
       "      <td>-7.033281</td>\n",
       "      <td>4.542029</td>\n",
       "      <td>-3.151225</td>\n",
       "      <td>-1.397737</td>\n",
       "      <td>-5.568731</td>\n",
       "      <td>0.570636</td>\n",
       "      <td>-2.581123</td>\n",
       "      <td>...</td>\n",
       "      <td>0.372319</td>\n",
       "      <td>0.713588</td>\n",
       "      <td>0.014049</td>\n",
       "      <td>-0.040308</td>\n",
       "      <td>-0.105130</td>\n",
       "      <td>0.041449</td>\n",
       "      <td>0.051648</td>\n",
       "      <td>0.170575</td>\n",
       "      <td>0.075667</td>\n",
       "      <td>122.211321</td>\n",
       "    </tr>\n",
       "  </tbody>\n",
       "</table>\n",
       "<p>2 rows × 30 columns</p>\n",
       "</div>"
      ],
      "text/plain": [
       "               Time        V1        V2        V3        V4        V5  \\\n",
       "Class                                                                   \n",
       "0      92356.628049 -0.019933 -0.035513  0.133861 -0.055490 -0.044426   \n",
       "1      80746.806911 -4.771948  3.623778 -7.033281  4.542029 -3.151225   \n",
       "\n",
       "             V6        V7        V8        V9  ...       V20       V21  \\\n",
       "Class                                          ...                       \n",
       "0     -0.157950  0.016224 -0.048561 -0.004040  ...  0.019628  0.010868   \n",
       "1     -1.397737 -5.568731  0.570636 -2.581123  ...  0.372319  0.713588   \n",
       "\n",
       "            V22       V23       V24       V25       V26       V27       V28  \\\n",
       "Class                                                                         \n",
       "0      0.045893 -0.012051 -0.028322  0.018527  0.016761 -0.025224  0.011759   \n",
       "1      0.014049 -0.040308 -0.105130  0.041449  0.051648  0.170575  0.075667   \n",
       "\n",
       "           Amount  \n",
       "Class              \n",
       "0       84.464167  \n",
       "1      122.211321  \n",
       "\n",
       "[2 rows x 30 columns]"
      ]
     },
     "execution_count": 14,
     "metadata": {},
     "output_type": "execute_result"
    }
   ],
   "source": [
    "new_dataset.groupby('Class').mean()"
   ]
  },
  {
   "cell_type": "code",
   "execution_count": 15,
   "id": "a615568c",
   "metadata": {
    "execution": {
     "iopub.execute_input": "2025-10-16T07:40:56.814926Z",
     "iopub.status.busy": "2025-10-16T07:40:56.814519Z",
     "iopub.status.idle": "2025-10-16T07:40:56.821056Z",
     "shell.execute_reply": "2025-10-16T07:40:56.820132Z"
    },
    "papermill": {
     "duration": 0.015357,
     "end_time": "2025-10-16T07:40:56.822705",
     "exception": false,
     "start_time": "2025-10-16T07:40:56.807348",
     "status": "completed"
    },
    "tags": []
   },
   "outputs": [],
   "source": [
    "#Splitting the data into Features & Targets\n",
    "X = new_dataset.drop(columns='Class', axis=1)\n",
    "Y = new_dataset['Class']"
   ]
  },
  {
   "cell_type": "code",
   "execution_count": 16,
   "id": "6a24b2dd",
   "metadata": {
    "execution": {
     "iopub.execute_input": "2025-10-16T07:40:56.837471Z",
     "iopub.status.busy": "2025-10-16T07:40:56.836982Z",
     "iopub.status.idle": "2025-10-16T07:40:56.853098Z",
     "shell.execute_reply": "2025-10-16T07:40:56.851822Z"
    },
    "papermill": {
     "duration": 0.025883,
     "end_time": "2025-10-16T07:40:56.854522",
     "exception": false,
     "start_time": "2025-10-16T07:40:56.828639",
     "status": "completed"
    },
    "tags": []
   },
   "outputs": [
    {
     "name": "stdout",
     "output_type": "stream",
     "text": [
      "            Time        V1        V2        V3        V4        V5        V6  \\\n",
      "60527    49367.0 -3.234359 -3.552772  1.464939  2.416094  3.570486 -2.499745   \n",
      "70717    53989.0 -0.656770 -0.309657  2.010112 -1.980830 -0.235825  0.046556   \n",
      "68609    53062.0 -0.750365  0.878085  1.787246  0.413366  0.583507 -0.484501   \n",
      "32365    36766.0  1.187575  0.506558 -0.356961  1.302665  0.008177 -1.255824   \n",
      "36968    38753.0  0.967033 -0.071270  0.158479  1.082471 -0.005414  0.152087   \n",
      "...          ...       ...       ...       ...       ...       ...       ...   \n",
      "279863  169142.0 -1.927883  1.125653 -4.518331  1.749293 -1.566487 -2.010494   \n",
      "280143  169347.0  1.378559  1.289381 -5.004247  1.411850  0.442581 -1.326536   \n",
      "280149  169351.0 -0.676143  1.126366 -2.213700  0.468308 -1.120541 -0.003346   \n",
      "281144  169966.0 -3.113832  0.585864 -5.399730  1.817092 -0.840618 -2.943548   \n",
      "281674  170348.0  1.991976  0.158476 -2.583441  0.408670  1.151147 -0.096695   \n",
      "\n",
      "              V7        V8        V9  ...       V20       V21       V22  \\\n",
      "60527  -1.976042  0.411669 -0.665511  ...  1.423639  0.493628 -0.006418   \n",
      "70717  -0.172574 -0.038866 -0.934925  ...  0.161242  0.421954  1.203502   \n",
      "68609   0.488510  0.012384 -0.900265  ...  0.201583 -0.168624 -0.532747   \n",
      "32365   0.438513 -0.263806 -0.080874  ... -0.096754 -0.079640 -0.276744   \n",
      "36968   0.102306  0.064236 -0.309360  ...  0.081751  0.195263  0.386453   \n",
      "...          ...       ...       ...  ...       ...       ...       ...   \n",
      "279863 -0.882850  0.697211 -2.064945  ...  1.252967  0.778584 -0.319189   \n",
      "280143 -1.413170  0.248525 -1.127396  ...  0.226138  0.370612  0.028234   \n",
      "280149 -2.234739  1.210158 -0.652250  ...  0.247968  0.751826  0.834108   \n",
      "281144 -2.208002  1.058733 -1.632333  ...  0.306271  0.583276 -0.269209   \n",
      "281674  0.223050 -0.068384  0.577829  ... -0.017652 -0.164350 -0.295135   \n",
      "\n",
      "             V23       V24       V25       V26       V27       V28  Amount  \n",
      "60527   0.683076 -0.031317  0.657948 -0.036607 -0.156647  0.078054  116.66  \n",
      "70717  -0.322112 -0.471040  0.106249 -0.196440 -0.188528 -0.112984   29.99  \n",
      "68609  -0.090053  0.061932  0.005830  0.254519  0.047126  0.089656    0.89  \n",
      "32365  -0.130516  0.281986  0.695205 -0.358878  0.006672  0.045279   34.99  \n",
      "36968  -0.228999 -0.278657  0.585427 -0.260657  0.012317  0.024212  110.00  \n",
      "...          ...       ...       ...       ...       ...       ...     ...  \n",
      "279863  0.639419 -0.294885  0.537503  0.788395  0.292680  0.147968  390.00  \n",
      "280143 -0.145640 -0.081049  0.521875  0.739467  0.389152  0.186637    0.76  \n",
      "280149  0.190944  0.032070 -0.739695  0.471111  0.385107  0.194361   77.89  \n",
      "281144 -0.456108 -0.183659 -0.328168  0.606116  0.884876 -0.253700  245.00  \n",
      "281674 -0.072173 -0.450261  0.313267 -0.289617  0.002988 -0.015309   42.53  \n",
      "\n",
      "[984 rows x 30 columns]\n"
     ]
    }
   ],
   "source": [
    "print(X)"
   ]
  },
  {
   "cell_type": "code",
   "execution_count": 17,
   "id": "70f5756a",
   "metadata": {
    "execution": {
     "iopub.execute_input": "2025-10-16T07:40:56.868166Z",
     "iopub.status.busy": "2025-10-16T07:40:56.867844Z",
     "iopub.status.idle": "2025-10-16T07:40:56.874112Z",
     "shell.execute_reply": "2025-10-16T07:40:56.872948Z"
    },
    "papermill": {
     "duration": 0.015179,
     "end_time": "2025-10-16T07:40:56.875868",
     "exception": false,
     "start_time": "2025-10-16T07:40:56.860689",
     "status": "completed"
    },
    "tags": []
   },
   "outputs": [
    {
     "name": "stdout",
     "output_type": "stream",
     "text": [
      "60527     0\n",
      "70717     0\n",
      "68609     0\n",
      "32365     0\n",
      "36968     0\n",
      "         ..\n",
      "279863    1\n",
      "280143    1\n",
      "280149    1\n",
      "281144    1\n",
      "281674    1\n",
      "Name: Class, Length: 984, dtype: int64\n"
     ]
    }
   ],
   "source": [
    "print(Y)"
   ]
  },
  {
   "cell_type": "code",
   "execution_count": 18,
   "id": "5884c538",
   "metadata": {
    "execution": {
     "iopub.execute_input": "2025-10-16T07:40:56.889881Z",
     "iopub.status.busy": "2025-10-16T07:40:56.889502Z",
     "iopub.status.idle": "2025-10-16T07:40:56.898563Z",
     "shell.execute_reply": "2025-10-16T07:40:56.897615Z"
    },
    "papermill": {
     "duration": 0.018147,
     "end_time": "2025-10-16T07:40:56.900410",
     "exception": false,
     "start_time": "2025-10-16T07:40:56.882263",
     "status": "completed"
    },
    "tags": []
   },
   "outputs": [],
   "source": [
    "#Split the data into Training data & Testing Data\n",
    "X_train, X_test, Y_train, Y_test = train_test_split(X, Y, test_size=0.2, stratify=Y, random_state=2)"
   ]
  },
  {
   "cell_type": "code",
   "execution_count": 19,
   "id": "db88c884",
   "metadata": {
    "execution": {
     "iopub.execute_input": "2025-10-16T07:40:56.913465Z",
     "iopub.status.busy": "2025-10-16T07:40:56.913158Z",
     "iopub.status.idle": "2025-10-16T07:40:56.917544Z",
     "shell.execute_reply": "2025-10-16T07:40:56.916626Z"
    },
    "papermill": {
     "duration": 0.012539,
     "end_time": "2025-10-16T07:40:56.919079",
     "exception": false,
     "start_time": "2025-10-16T07:40:56.906540",
     "status": "completed"
    },
    "tags": []
   },
   "outputs": [],
   "source": [
    "model = LogisticRegression()"
   ]
  },
  {
   "cell_type": "code",
   "execution_count": 20,
   "id": "88fd4a96",
   "metadata": {
    "execution": {
     "iopub.execute_input": "2025-10-16T07:40:56.932899Z",
     "iopub.status.busy": "2025-10-16T07:40:56.932553Z",
     "iopub.status.idle": "2025-10-16T07:40:57.199926Z",
     "shell.execute_reply": "2025-10-16T07:40:57.199015Z"
    },
    "papermill": {
     "duration": 0.276612,
     "end_time": "2025-10-16T07:40:57.202226",
     "exception": false,
     "start_time": "2025-10-16T07:40:56.925614",
     "status": "completed"
    },
    "tags": []
   },
   "outputs": [
    {
     "data": {
      "text/html": [
       "<style>#sk-container-id-1 {color: black;background-color: white;}#sk-container-id-1 pre{padding: 0;}#sk-container-id-1 div.sk-toggleable {background-color: white;}#sk-container-id-1 label.sk-toggleable__label {cursor: pointer;display: block;width: 100%;margin-bottom: 0;padding: 0.3em;box-sizing: border-box;text-align: center;}#sk-container-id-1 label.sk-toggleable__label-arrow:before {content: \"▸\";float: left;margin-right: 0.25em;color: #696969;}#sk-container-id-1 label.sk-toggleable__label-arrow:hover:before {color: black;}#sk-container-id-1 div.sk-estimator:hover label.sk-toggleable__label-arrow:before {color: black;}#sk-container-id-1 div.sk-toggleable__content {max-height: 0;max-width: 0;overflow: hidden;text-align: left;background-color: #f0f8ff;}#sk-container-id-1 div.sk-toggleable__content pre {margin: 0.2em;color: black;border-radius: 0.25em;background-color: #f0f8ff;}#sk-container-id-1 input.sk-toggleable__control:checked~div.sk-toggleable__content {max-height: 200px;max-width: 100%;overflow: auto;}#sk-container-id-1 input.sk-toggleable__control:checked~label.sk-toggleable__label-arrow:before {content: \"▾\";}#sk-container-id-1 div.sk-estimator input.sk-toggleable__control:checked~label.sk-toggleable__label {background-color: #d4ebff;}#sk-container-id-1 div.sk-label input.sk-toggleable__control:checked~label.sk-toggleable__label {background-color: #d4ebff;}#sk-container-id-1 input.sk-hidden--visually {border: 0;clip: rect(1px 1px 1px 1px);clip: rect(1px, 1px, 1px, 1px);height: 1px;margin: -1px;overflow: hidden;padding: 0;position: absolute;width: 1px;}#sk-container-id-1 div.sk-estimator {font-family: monospace;background-color: #f0f8ff;border: 1px dotted black;border-radius: 0.25em;box-sizing: border-box;margin-bottom: 0.5em;}#sk-container-id-1 div.sk-estimator:hover {background-color: #d4ebff;}#sk-container-id-1 div.sk-parallel-item::after {content: \"\";width: 100%;border-bottom: 1px solid gray;flex-grow: 1;}#sk-container-id-1 div.sk-label:hover label.sk-toggleable__label {background-color: #d4ebff;}#sk-container-id-1 div.sk-serial::before {content: \"\";position: absolute;border-left: 1px solid gray;box-sizing: border-box;top: 0;bottom: 0;left: 50%;z-index: 0;}#sk-container-id-1 div.sk-serial {display: flex;flex-direction: column;align-items: center;background-color: white;padding-right: 0.2em;padding-left: 0.2em;position: relative;}#sk-container-id-1 div.sk-item {position: relative;z-index: 1;}#sk-container-id-1 div.sk-parallel {display: flex;align-items: stretch;justify-content: center;background-color: white;position: relative;}#sk-container-id-1 div.sk-item::before, #sk-container-id-1 div.sk-parallel-item::before {content: \"\";position: absolute;border-left: 1px solid gray;box-sizing: border-box;top: 0;bottom: 0;left: 50%;z-index: -1;}#sk-container-id-1 div.sk-parallel-item {display: flex;flex-direction: column;z-index: 1;position: relative;background-color: white;}#sk-container-id-1 div.sk-parallel-item:first-child::after {align-self: flex-end;width: 50%;}#sk-container-id-1 div.sk-parallel-item:last-child::after {align-self: flex-start;width: 50%;}#sk-container-id-1 div.sk-parallel-item:only-child::after {width: 0;}#sk-container-id-1 div.sk-dashed-wrapped {border: 1px dashed gray;margin: 0 0.4em 0.5em 0.4em;box-sizing: border-box;padding-bottom: 0.4em;background-color: white;}#sk-container-id-1 div.sk-label label {font-family: monospace;font-weight: bold;display: inline-block;line-height: 1.2em;}#sk-container-id-1 div.sk-label-container {text-align: center;}#sk-container-id-1 div.sk-container {/* jupyter's `normalize.less` sets `[hidden] { display: none; }` but bootstrap.min.css set `[hidden] { display: none !important; }` so we also need the `!important` here to be able to override the default hidden behavior on the sphinx rendered scikit-learn.org. See: https://github.com/scikit-learn/scikit-learn/issues/21755 */display: inline-block !important;position: relative;}#sk-container-id-1 div.sk-text-repr-fallback {display: none;}</style><div id=\"sk-container-id-1\" class=\"sk-top-container\"><div class=\"sk-text-repr-fallback\"><pre>LogisticRegression()</pre><b>In a Jupyter environment, please rerun this cell to show the HTML representation or trust the notebook. <br />On GitHub, the HTML representation is unable to render, please try loading this page with nbviewer.org.</b></div><div class=\"sk-container\" hidden><div class=\"sk-item\"><div class=\"sk-estimator sk-toggleable\"><input class=\"sk-toggleable__control sk-hidden--visually\" id=\"sk-estimator-id-1\" type=\"checkbox\" checked><label for=\"sk-estimator-id-1\" class=\"sk-toggleable__label sk-toggleable__label-arrow\">LogisticRegression</label><div class=\"sk-toggleable__content\"><pre>LogisticRegression()</pre></div></div></div></div></div>"
      ],
      "text/plain": [
       "LogisticRegression()"
      ]
     },
     "execution_count": 20,
     "metadata": {},
     "output_type": "execute_result"
    }
   ],
   "source": [
    "model.fit(X_train,Y_train)"
   ]
  },
  {
   "cell_type": "code",
   "execution_count": 21,
   "id": "994fbe20",
   "metadata": {
    "execution": {
     "iopub.execute_input": "2025-10-16T07:40:57.226180Z",
     "iopub.status.busy": "2025-10-16T07:40:57.224251Z",
     "iopub.status.idle": "2025-10-16T07:40:57.239257Z",
     "shell.execute_reply": "2025-10-16T07:40:57.236023Z"
    },
    "papermill": {
     "duration": 0.028618,
     "end_time": "2025-10-16T07:40:57.241124",
     "exception": false,
     "start_time": "2025-10-16T07:40:57.212506",
     "status": "completed"
    },
    "tags": []
   },
   "outputs": [],
   "source": [
    "# accuracy on training data\n",
    "X_train_prediction = model.predict(X_train)\n",
    "training_data_accuracy = accuracy_score(X_train_prediction, Y_train)"
   ]
  },
  {
   "cell_type": "code",
   "execution_count": 22,
   "id": "3e92c4c3",
   "metadata": {
    "execution": {
     "iopub.execute_input": "2025-10-16T07:40:57.265995Z",
     "iopub.status.busy": "2025-10-16T07:40:57.265049Z",
     "iopub.status.idle": "2025-10-16T07:40:57.271410Z",
     "shell.execute_reply": "2025-10-16T07:40:57.270493Z"
    },
    "papermill": {
     "duration": 0.020706,
     "end_time": "2025-10-16T07:40:57.273688",
     "exception": false,
     "start_time": "2025-10-16T07:40:57.252982",
     "status": "completed"
    },
    "tags": []
   },
   "outputs": [
    {
     "name": "stdout",
     "output_type": "stream",
     "text": [
      "Accuracy on Training data :  0.9479034307496823\n"
     ]
    }
   ],
   "source": [
    "print('Accuracy on Training data : ', training_data_accuracy)"
   ]
  },
  {
   "cell_type": "code",
   "execution_count": 23,
   "id": "1d30ec79",
   "metadata": {
    "execution": {
     "iopub.execute_input": "2025-10-16T07:40:57.299561Z",
     "iopub.status.busy": "2025-10-16T07:40:57.299129Z",
     "iopub.status.idle": "2025-10-16T07:40:57.308239Z",
     "shell.execute_reply": "2025-10-16T07:40:57.307227Z"
    },
    "papermill": {
     "duration": 0.024213,
     "end_time": "2025-10-16T07:40:57.310435",
     "exception": false,
     "start_time": "2025-10-16T07:40:57.286222",
     "status": "completed"
    },
    "tags": []
   },
   "outputs": [],
   "source": [
    "#Accuracy on testing data \n",
    "X_test_prediction = model.predict(X_test)\n",
    "testing_data_accuracy = accuracy_score(X_test_prediction,Y_test)"
   ]
  },
  {
   "cell_type": "code",
   "execution_count": 24,
   "id": "820bd1cc",
   "metadata": {
    "execution": {
     "iopub.execute_input": "2025-10-16T07:40:57.325364Z",
     "iopub.status.busy": "2025-10-16T07:40:57.325018Z",
     "iopub.status.idle": "2025-10-16T07:40:57.330511Z",
     "shell.execute_reply": "2025-10-16T07:40:57.329521Z"
    },
    "papermill": {
     "duration": 0.015843,
     "end_time": "2025-10-16T07:40:57.332655",
     "exception": false,
     "start_time": "2025-10-16T07:40:57.316812",
     "status": "completed"
    },
    "tags": []
   },
   "outputs": [
    {
     "name": "stdout",
     "output_type": "stream",
     "text": [
      "Accuracy on Testing data :  0.9390862944162437\n"
     ]
    }
   ],
   "source": [
    "print('Accuracy on Testing data : ', testing_data_accuracy)"
   ]
  },
  {
   "cell_type": "code",
   "execution_count": null,
   "id": "020af1c2",
   "metadata": {
    "papermill": {
     "duration": 0.006759,
     "end_time": "2025-10-16T07:40:57.347229",
     "exception": false,
     "start_time": "2025-10-16T07:40:57.340470",
     "status": "completed"
    },
    "tags": []
   },
   "outputs": [],
   "source": []
  }
 ],
 "metadata": {
  "kaggle": {
   "accelerator": "none",
   "dataSources": [
    {
     "datasetId": 310,
     "sourceId": 23498,
     "sourceType": "datasetVersion"
    }
   ],
   "dockerImageVersionId": 31153,
   "isGpuEnabled": false,
   "isInternetEnabled": true,
   "language": "python",
   "sourceType": "notebook"
  },
  "kernelspec": {
   "display_name": "Python 3",
   "language": "python",
   "name": "python3"
  },
  "language_info": {
   "codemirror_mode": {
    "name": "ipython",
    "version": 3
   },
   "file_extension": ".py",
   "mimetype": "text/x-python",
   "name": "python",
   "nbconvert_exporter": "python",
   "pygments_lexer": "ipython3",
   "version": "3.11.13"
  },
  "papermill": {
   "default_parameters": {},
   "duration": 16.428363,
   "end_time": "2025-10-16T07:40:58.075024",
   "environment_variables": {},
   "exception": null,
   "input_path": "__notebook__.ipynb",
   "output_path": "__notebook__.ipynb",
   "parameters": {},
   "start_time": "2025-10-16T07:40:41.646661",
   "version": "2.6.0"
  }
 },
 "nbformat": 4,
 "nbformat_minor": 5
}
